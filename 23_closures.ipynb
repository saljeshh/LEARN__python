{
 "cells": [
  {
   "attachments": {},
   "cell_type": "markdown",
   "metadata": {},
   "source": [
    "# Closures\n",
    "- A clouser closes over a free variable from their environment\n"
   ]
  },
  {
   "cell_type": "code",
   "execution_count": 1,
   "metadata": {},
   "outputs": [
    {
     "name": "stdout",
     "output_type": "stream",
     "text": [
      "HI\n"
     ]
    }
   ],
   "source": [
    "def outer_func():\n",
    "    message = 'HI'\n",
    "\n",
    "    def inner_func():\n",
    "        print(message)\n",
    "\n",
    "    return inner_func()\n",
    "\n",
    "outer_func()"
   ]
  },
  {
   "cell_type": "code",
   "execution_count": 5,
   "metadata": {},
   "outputs": [
    {
     "name": "stdout",
     "output_type": "stream",
     "text": [
      "<function outer_function.<locals>.inner_function at 0x0000024EBC8BC540>\n",
      "HI\n"
     ]
    }
   ],
   "source": [
    "def outer_function():\n",
    "    message = 'HI'\n",
    "\n",
    "    def inner_function():\n",
    "        print(message)\n",
    "\n",
    "    return inner_function\n",
    "\n",
    "my_func = outer_function()\n",
    "\n",
    "print(my_func)\n",
    "\n",
    "my_func()"
   ]
  },
  {
   "cell_type": "code",
   "execution_count": 8,
   "metadata": {},
   "outputs": [
    {
     "name": "stdout",
     "output_type": "stream",
     "text": [
      "HELLO\n",
      "HHIHI\n"
     ]
    }
   ],
   "source": [
    "def new_outer_function(msg):\n",
    "    message = msg\n",
    "\n",
    "    def new_inner_function():\n",
    "        print(message)\n",
    "\n",
    "    return new_inner_function\n",
    "\n",
    "my_func = new_outer_function('HELLO')\n",
    "hello_func = new_outer_function('HHIHI')\n",
    "\n",
    "my_func()\n",
    "hello_func()"
   ]
  },
  {
   "cell_type": "code",
   "execution_count": 9,
   "metadata": {},
   "outputs": [
    {
     "name": "stdout",
     "output_type": "stream",
     "text": [
      "12\n",
      "20\n",
      "5\n",
      "10\n"
     ]
    }
   ],
   "source": [
    "import logging\n",
    "\n",
    "logging.basicConfig(filename='example.log', level=logging.INFO)\n",
    "\n",
    "def logger(func):\n",
    "    def log_func(*args):\n",
    "        logging.info('Running \"{}\" with arguments {}'.format(func.__name__, args))\n",
    "        print(func(*args))\n",
    "    return log_func \n",
    "\n",
    "\n",
    "def add(x, y):\n",
    "    return x * y\n",
    "\n",
    "def sub(x,y):\n",
    "    return x - y\n",
    "\n",
    "\n",
    "add_logger = logger(add)\n",
    "sub_logger = logger(sub)\n",
    "\n",
    "add_logger(3,4)\n",
    "add_logger(4,5)\n",
    "\n",
    "sub_logger(10,5)\n",
    "sub_logger(20,10)"
   ]
  },
  {
   "cell_type": "code",
   "execution_count": null,
   "metadata": {},
   "outputs": [],
   "source": []
  }
 ],
 "metadata": {
  "kernelspec": {
   "display_name": "Python 3",
   "language": "python",
   "name": "python3"
  },
  "language_info": {
   "codemirror_mode": {
    "name": "ipython",
    "version": 3
   },
   "file_extension": ".py",
   "mimetype": "text/x-python",
   "name": "python",
   "nbconvert_exporter": "python",
   "pygments_lexer": "ipython3",
   "version": "3.11.2"
  },
  "orig_nbformat": 4
 },
 "nbformat": 4,
 "nbformat_minor": 2
}
