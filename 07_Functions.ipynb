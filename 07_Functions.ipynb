{
 "cells": [
  {
   "attachments": {},
   "cell_type": "markdown",
   "metadata": {},
   "source": [
    "# Functions"
   ]
  },
  {
   "cell_type": "code",
   "execution_count": 8,
   "metadata": {},
   "outputs": [
    {
     "name": "stdout",
     "output_type": "stream",
     "text": [
      "Hello Function\n",
      "Hello Function\n",
      "welcome Function.\n",
      "WELCOME FUNCTION.\n",
      "You are No Field Specified!\n",
      "You are Data Analyst!\n"
     ]
    }
   ],
   "source": [
    "def hello_func():\n",
    "    print('Hello Function')\n",
    "\n",
    "# DRY- dont repeat yourself so functions are used.\n",
    "hello_func()\n",
    "hello_func()\n",
    "\n",
    "# Returning\n",
    "def welcome():\n",
    "    return 'welcome Function.'\n",
    "\n",
    "print(welcome())\n",
    "print(welcome().upper())\n",
    "\n",
    "# with parameters and default values\n",
    "def who_are_you(field='No Field Specified'):\n",
    "    return f\"You are {field}!\"\n",
    "\n",
    "print(who_are_you())\n",
    "print(who_are_you('Data Analyst'))"
   ]
  },
  {
   "cell_type": "code",
   "execution_count": 11,
   "metadata": {},
   "outputs": [
    {
     "name": "stdout",
     "output_type": "stream",
     "text": [
      "('Maths', 'Art')\n",
      "{'name': 'John', 'age': 22}\n"
     ]
    }
   ],
   "source": [
    "# *args (Tuple) , **kwargs (dictionary)\n",
    "\n",
    "def student_info(*args, **kwargs):\n",
    "    print(args)\n",
    "    print(kwargs)\n",
    "\n",
    "student_info('Maths','Art', name='John',age=22)"
   ]
  },
  {
   "cell_type": "code",
   "execution_count": 12,
   "metadata": {},
   "outputs": [
    {
     "name": "stdout",
     "output_type": "stream",
     "text": [
      "('Maths', 'Science')\n",
      "{'name': 'John', 'age': 22}\n"
     ]
    }
   ],
   "source": [
    "courses = ['Maths','Science']\n",
    "info = {'name':'John','age':22}\n",
    "\n",
    "def student_info(*args, **kwargs):\n",
    "    print(args)\n",
    "    print(kwargs)\n",
    "\n",
    "\n",
    "# unpacking values of list and dict to send it as normal values in params\n",
    "student_info(*courses,**info) "
   ]
  },
  {
   "cell_type": "code",
   "execution_count": 18,
   "metadata": {},
   "outputs": [
    {
     "name": "stdout",
     "output_type": "stream",
     "text": [
      "True\n",
      "30\n"
     ]
    }
   ],
   "source": [
    "# Number of days per month. First value placeholder for indexing purposes.\n",
    "month_days = [0,31,28,31,30,31,30,31,31,30,31,30,31]\n",
    "\n",
    "def is_leap(year):\n",
    "    \"\"\"Return True for leap years, False for non-leap years\"\"\"\n",
    "    return year % 4 == 0 and (year % 100 != 0 or year % 400 == 0)\n",
    "\n",
    "def days_in_month(year,month):\n",
    "    \"\"\"Return number of days in that month in that year.\"\"\"\n",
    "    if not 1 <=month <=12:\n",
    "        return 'Invalid Month'\n",
    "    \n",
    "    if month == 2 and is_leap(year):\n",
    "        return 29\n",
    "    \n",
    "    return month_days[month]\n",
    "\n",
    "print(is_leap(2000))\n",
    "print(days_in_month(2000,4))"
   ]
  }
 ],
 "metadata": {
  "kernelspec": {
   "display_name": "Python 3",
   "language": "python",
   "name": "python3"
  },
  "language_info": {
   "codemirror_mode": {
    "name": "ipython",
    "version": 3
   },
   "file_extension": ".py",
   "mimetype": "text/x-python",
   "name": "python",
   "nbconvert_exporter": "python",
   "pygments_lexer": "ipython3",
   "version": "3.11.2"
  },
  "orig_nbformat": 4
 },
 "nbformat": 4,
 "nbformat_minor": 2
}
