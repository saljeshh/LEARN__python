{
 "cells": [
  {
   "attachments": {},
   "cell_type": "markdown",
   "metadata": {},
   "source": [
    "# Functions"
   ]
  },
  {
   "cell_type": "code",
   "execution_count": 7,
   "metadata": {},
   "outputs": [
    {
     "name": "stdout",
     "output_type": "stream",
     "text": [
      "Hello Function\n",
      "Hello Function\n",
      "welcome Function.\n",
      "WELCOME FUNCTION.\n",
      "You are Data Analyst!\n"
     ]
    }
   ],
   "source": [
    "def hello_func():\n",
    "    print('Hello Function')\n",
    "\n",
    "# DRY- dont repeat yourself so functions are used.\n",
    "hello_func()\n",
    "hello_func()\n",
    "\n",
    "# Returning\n",
    "def welcome():\n",
    "    return 'welcome Function.'\n",
    "\n",
    "print(welcome())\n",
    "print(welcome().upper())\n",
    "\n",
    "# with parameters\n",
    "def who_are_you(field='No Field Specified'):\n",
    "    return f\"You are {field}!\"\n",
    "\n",
    "print(who_are_you('Data Analyst'))"
   ]
  },
  {
   "cell_type": "code",
   "execution_count": null,
   "metadata": {},
   "outputs": [],
   "source": []
  }
 ],
 "metadata": {
  "kernelspec": {
   "display_name": "Python 3",
   "language": "python",
   "name": "python3"
  },
  "language_info": {
   "codemirror_mode": {
    "name": "ipython",
    "version": 3
   },
   "file_extension": ".py",
   "mimetype": "text/x-python",
   "name": "python",
   "nbconvert_exporter": "python",
   "pygments_lexer": "ipython3",
   "version": "3.11.2"
  },
  "orig_nbformat": 4
 },
 "nbformat": 4,
 "nbformat_minor": 2
}
