{
 "cells": [
  {
   "cell_type": "markdown",
   "id": "50c3952c",
   "metadata": {},
   "source": [
    "# Strings"
   ]
  },
  {
   "cell_type": "code",
   "execution_count": 11,
   "id": "c502dde6",
   "metadata": {},
   "outputs": [
    {
     "name": "stdout",
     "output_type": "stream",
     "text": [
      "Hello World\n",
      "Analyst's world\n",
      "I am a Junior Data\n",
      "Analyst Intern \n",
      "Who is very Smart and Talented.\n"
     ]
    }
   ],
   "source": [
    "message = 'Hello World'\n",
    "print(message)\n",
    "\n",
    "say_hi = 'Analyst\\'s world'#escape the 's or use \"double quotes\"\n",
    "print(say_hi)\n",
    "\n",
    "# if you want to print string in multiple lines \"\"\"use triple quotes\"\"\"\n",
    "multi_string = \"\"\"I am a Junior Data\n",
    "Analyst Intern \n",
    "Who is very Smart and Talented.\"\"\"\n",
    "print(multi_string)"
   ]
  },
  {
   "cell_type": "code",
   "execution_count": 17,
   "id": "dd06c6c4",
   "metadata": {},
   "outputs": [
    {
     "name": "stdout",
     "output_type": "stream",
     "text": [
      "11\n",
      "HELLO WORLD\n",
      "hello world\n",
      "Hello world\n"
     ]
    }
   ],
   "source": [
    "messages = 'HELLO WORLD'\n",
    "\n",
    "print(len(messages)) # length of string\n",
    "\n",
    "print(messages.upper())\n",
    "print(messages.lower())\n",
    "print(messages.capitalize())"
   ]
  },
  {
   "cell_type": "markdown",
   "id": "8341b89f",
   "metadata": {},
   "source": [
    "# Index in String\n"
   ]
  },
  {
   "cell_type": "code",
   "execution_count": 28,
   "id": "ba1c5d77",
   "metadata": {},
   "outputs": [
    {
     "name": "stdout",
     "output_type": "stream",
     "text": [
      "m\n",
      "Iam \n",
      "a e\n",
      "xet\n"
     ]
    }
   ],
   "source": [
    "text = 'Iam Texet'\n",
    "\n",
    "print(text[2])\n",
    "\n",
    "print(text[0:4]) # last index is not included only first\n",
    "\n",
    "print(text[1:6:2])\n",
    "\n",
    "print(text[6:]) #from 6 to last\n",
    "\n"
   ]
  },
  {
   "cell_type": "markdown",
   "id": "9a23970e",
   "metadata": {},
   "source": [
    "# String Methods\n"
   ]
  },
  {
   "cell_type": "code",
   "execution_count": 33,
   "id": "811d6a9d",
   "metadata": {},
   "outputs": [
    {
     "name": "stdout",
     "output_type": "stream",
     "text": [
      "3\n",
      "1\n",
      "reicat is very good person.\n",
      "reicat is very masculine person.\n"
     ]
    }
   ],
   "source": [
    "text = \"reicat is very good person.\"\n",
    "\n",
    "print(text.count('e')) # count no of e in the string\n",
    "\n",
    "print(text.find('e')) # it only gives first ever found e if not found -1 \n",
    "\n",
    "#this wont work get as replace() returns new value and we printed old value\n",
    "text.replace('good','masculine')\n",
    "print(text) \n",
    "\n",
    "# store \n",
    "new_replaced_text = text.replace('good','masculine')\n",
    "print(new_replaced_text)"
   ]
  },
  {
   "cell_type": "markdown",
   "id": "c2cd0ae6",
   "metadata": {},
   "source": [
    "# Concatination"
   ]
  },
  {
   "cell_type": "code",
   "execution_count": 50,
   "id": "0f937788",
   "metadata": {},
   "outputs": [
    {
     "name": "stdout",
     "output_type": "stream",
     "text": [
      "Hello Reicat welcome\n",
      "Hello Reicat welcome!\n",
      "Hello Reicat welcome!\n",
      "HELLO Reicat Welcome!\n"
     ]
    }
   ],
   "source": [
    "greeting = 'Hello'\n",
    "name = 'Reicat'\n",
    "\n",
    "# Hard and traditional way of concatination\n",
    "welcome_text = greeting + ' ' + name + ' ' + 'welcome'\n",
    "\n",
    "print(welcome_text)\n",
    "\n",
    "\n",
    "# Easy way i.e Formatted string\n",
    "message = '{} {} welcome!'.format(greeting,name)\n",
    "print(message)\n",
    "\n",
    "\n",
    "# Python 3.6 +  new fstring way\n",
    "new_message = f\"{greeting} {name} welcome!\"\n",
    "print(new_message)\n",
    "\n",
    "\n",
    "# fstring + methods\n",
    "method_message = f\"{greeting.upper()} {name.capitalize()} Welcome!\"\n",
    "print(method_message)\n",
    "\n"
   ]
  },
  {
   "cell_type": "code",
   "execution_count": null,
   "id": "88b60216",
   "metadata": {},
   "outputs": [],
   "source": []
  }
 ],
 "metadata": {
  "kernelspec": {
   "display_name": "Python 3 (ipykernel)",
   "language": "python",
   "name": "python3"
  },
  "language_info": {
   "codemirror_mode": {
    "name": "ipython",
    "version": 3
   },
   "file_extension": ".py",
   "mimetype": "text/x-python",
   "name": "python",
   "nbconvert_exporter": "python",
   "pygments_lexer": "ipython3",
   "version": "3.9.13"
  }
 },
 "nbformat": 4,
 "nbformat_minor": 5
}
