{
 "cells": [
  {
   "cell_type": "code",
   "execution_count": 1,
   "metadata": {},
   "outputs": [
    {
     "name": "stdout",
     "output_type": "stream",
     "text": [
      "[1, 4, 9, 16, 25]\n"
     ]
    }
   ],
   "source": [
    "# normal\n",
    "\n",
    "def square_numbers(nums):\n",
    "    result = []\n",
    "    for i in nums:\n",
    "        result.append(i*i)\n",
    "    return result \n",
    "\n",
    "my_nums = square_numbers([1,2,3,4,5])\n",
    "\n",
    "print(my_nums)\n"
   ]
  },
  {
   "cell_type": "code",
   "execution_count": 7,
   "metadata": {},
   "outputs": [
    {
     "name": "stdout",
     "output_type": "stream",
     "text": [
      "<generator object square_numbers at 0x0000017E726C4EE0>\n",
      "1\n",
      "4\n",
      "9\n",
      "16\n",
      "25\n"
     ]
    }
   ],
   "source": [
    "# using generator\n",
    "\n",
    "def square_numbers(nums):\n",
    "    for i in nums:\n",
    "        yield (i*i)\n",
    "\n",
    "my_num = square_numbers([1,2,3,4,5])\n",
    "print(my_num) #<generator object square_numbers at 0x0000017E72676E90>\n",
    "\n",
    "print(next(my_num))\n",
    "print(next(my_num))\n",
    "\n",
    "# if we do this print for more than index we have it gives error so use for loop\n",
    "\n",
    "\n",
    "for num in my_num:\n",
    "    print(num)"
   ]
  },
  {
   "cell_type": "code",
   "execution_count": 10,
   "metadata": {},
   "outputs": [
    {
     "name": "stdout",
     "output_type": "stream",
     "text": [
      "[1, 4, 9, 16, 25]\n",
      "1\n",
      "4\n",
      "9\n",
      "16\n",
      "25\n",
      "-----------------\n",
      "<generator object <genexpr> at 0x0000017E726C4BA0>\n",
      "1\n",
      "4\n",
      "9\n",
      "16\n"
     ]
    }
   ],
   "source": [
    "# list comprensetion to generator\n",
    "\n",
    "my_list = [x*x for x in [1,2,3,4,5]]\n",
    "\n",
    "print(my_list)\n",
    "\n",
    "for num in my_list:\n",
    "    print(num)\n",
    "\n",
    "print('-----------------')\n",
    "\n",
    "# turn to convert to generator\n",
    "haha = (x*x for x in [1,2,3,4])\n",
    "print(haha)\n",
    "for num in haha:\n",
    "    print(num)"
   ]
  },
  {
   "cell_type": "code",
   "execution_count": null,
   "metadata": {},
   "outputs": [],
   "source": []
  }
 ],
 "metadata": {
  "kernelspec": {
   "display_name": "Python 3",
   "language": "python",
   "name": "python3"
  },
  "language_info": {
   "codemirror_mode": {
    "name": "ipython",
    "version": 3
   },
   "file_extension": ".py",
   "mimetype": "text/x-python",
   "name": "python",
   "nbconvert_exporter": "python",
   "pygments_lexer": "ipython3",
   "version": "3.11.2"
  },
  "orig_nbformat": 4
 },
 "nbformat": 4,
 "nbformat_minor": 2
}
