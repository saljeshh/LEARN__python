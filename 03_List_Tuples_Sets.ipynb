{
 "cells": [
  {
   "cell_type": "markdown",
   "id": "077da613",
   "metadata": {},
   "source": [
    "# Lists"
   ]
  },
  {
   "cell_type": "code",
   "execution_count": 10,
   "id": "8d1e5cf7",
   "metadata": {},
   "outputs": [
    {
     "name": "stdout",
     "output_type": "stream",
     "text": [
      "['History', 'Maths', 'Physics', 'ComputerScience']\n",
      "4\n",
      "History\n",
      "ComputerScience\n",
      "['History', 'Maths']\n",
      "['History', 'Maths']\n",
      "['ComputerScience']\n"
     ]
    }
   ],
   "source": [
    "courses = ['History','Maths','Physics','ComputerScience']\n",
    "\n",
    "print(courses)\n",
    "print(len(courses)) # Length of list\n",
    "print(courses[0]) # first value of list\n",
    "print(courses[-1]) # last value of list \n",
    "\n",
    "#print(courses[10]) # if there is no index then it will throw IndexError\n",
    "\n",
    "print(courses[0:2]) # similar to string but here its value of index\n",
    "print(courses[:2]) # upto 1\n",
    "print(courses[3:]) # from 3 to last"
   ]
  },
  {
   "cell_type": "markdown",
   "id": "655844f1",
   "metadata": {},
   "source": [
    "# List Methods"
   ]
  },
  {
   "cell_type": "code",
   "execution_count": 26,
   "id": "a4580c95",
   "metadata": {},
   "outputs": [
    {
     "name": "stdout",
     "output_type": "stream",
     "text": [
      "['History', 'Maths', 'Physics', 'ComputerScience', 'Data Analytics']\n",
      "['History', 'Machine Learning', 'Maths', 'Physics', 'ComputerScience', 'Data Analytics']\n",
      "[['WebTech', 'Database'], 'History', 'Machine Learning', 'Maths', 'Physics', 'ComputerScience', 'Data Analytics']\n",
      "[['WebTech', 'Database'], 'History', 'Machine Learning', 'Maths', 'Physics', 'ComputerScience', 'Data Analytics', ['WebTech', 'Database']]\n",
      "[['WebTech', 'Database'], 'History', 'Machine Learning', 'Maths', 'Physics', 'ComputerScience', 'Data Analytics', ['WebTech', 'Database'], 'Data Science', 'Dev Ops']\n",
      "[['WebTech', 'Database'], 'History', 'Machine Learning', 'Physics', 'ComputerScience', 'Data Analytics', ['WebTech', 'Database'], 'Data Science', 'Dev Ops']\n",
      "Dev Ops\n",
      "[['WebTech', 'Database'], 'History', 'Machine Learning', 'Physics', 'ComputerScience', 'Data Analytics', ['WebTech', 'Database'], 'Data Science']\n",
      "['Data Science', ['WebTech', 'Database'], 'Data Analytics', 'ComputerScience', 'Physics', 'Machine Learning', 'History', ['WebTech', 'Database']]\n"
     ]
    }
   ],
   "source": [
    "courses = ['History','Maths','Physics','ComputerScience']\n",
    "courses.append('Data Analytics')\n",
    "print(courses)\n",
    "\n",
    "courses.insert(1,'Machine Learning')\n",
    "print(courses)\n",
    "\n",
    "# Extend - when we have multiple value to list - it will list without nested list as insert does\n",
    "courses_2 = ['WebTech','Database']\n",
    "courses.insert(0,courses_2)\n",
    "print(courses) # [['WebTech', 'Database'], 'History',....]\n",
    "\n",
    "courses.append(courses_2) # append does same as the insert nested list\n",
    "print(courses)\n",
    "\n",
    "courses_3 = ['Data Science','Dev Ops']\n",
    "courses.extend(courses_3)\n",
    "print(courses)\n",
    "\n",
    "# remove\n",
    "courses.remove('Maths')\n",
    "print(courses)\n",
    "\n",
    "# pop - also returns what value was popped , from last\n",
    "popped_value = courses.pop()\n",
    "print(popped_value)\n",
    "print(courses)\n",
    "\n",
    "# Reverse\n",
    "courses.reverse()\n",
    "print(courses)"
   ]
  },
  {
   "cell_type": "code",
   "execution_count": 40,
   "id": "93c0d6bf",
   "metadata": {
    "scrolled": false
   },
   "outputs": [
    {
     "name": "stdout",
     "output_type": "stream",
     "text": [
      "['Physics', 'Maths', 'History', 'ComputerScience']\n",
      "[1, 2, 3, 4, 5]\n",
      "['ComputerScience', 'History', 'Maths', 'Physics']\n",
      "1\n",
      "5\n",
      "2\n",
      "False\n"
     ]
    }
   ],
   "source": [
    "# sort\n",
    "courses = ['History','Maths','Physics','ComputerScience']\n",
    "nums = [1,5,2,4,3]\n",
    "\n",
    "# reverse the sorted by using reverse after sort or reverse=True\n",
    "courses.sort(reverse=True)\n",
    "nums.sort()\n",
    "\n",
    "print(courses)\n",
    "print(nums)\n",
    "\n",
    "\n",
    "# WITHOUT CHANGING ORIGINAL -> we need new list sorted \n",
    "sorted_list = sorted(courses)\n",
    "print(sorted_list)\n",
    "\n",
    "print(min(nums))\n",
    "print(max(nums))\n",
    "\n",
    "print(courses.index('History')) # ans = 2\n",
    "\n",
    "# print(courses.index('Notinlist')) # ans = value Error\n",
    "\n",
    "print('NotinList' in courses) #False"
   ]
  },
  {
   "cell_type": "code",
   "execution_count": 43,
   "id": "bd58b0bb",
   "metadata": {},
   "outputs": [
    {
     "name": "stdout",
     "output_type": "stream",
     "text": [
      "History - Maths - Physics - ComputerScience\n",
      "['History', 'Maths', 'Physics', 'ComputerScience']\n"
     ]
    }
   ],
   "source": [
    "courses = ['History','Maths','Physics','ComputerScience']\n",
    "course_str = ' - '.join(courses)\n",
    "print(course_str)\n",
    "\n",
    "# convert back to list \n",
    "new_list = course_str.split(' - ')\n",
    "print(new_list)"
   ]
  },
  {
   "cell_type": "markdown",
   "id": "d2e7fd6e",
   "metadata": {},
   "source": [
    "# Loop through Lists"
   ]
  },
  {
   "cell_type": "code",
   "execution_count": 39,
   "id": "b5b29315",
   "metadata": {},
   "outputs": [
    {
     "name": "stdout",
     "output_type": "stream",
     "text": [
      "History\n",
      "Maths\n",
      "Physics\n",
      "ComputerScience\n",
      "0 : History\n",
      "1 : Maths\n",
      "2 : Physics\n",
      "3 : ComputerScience\n",
      "1 : History\n",
      "2 : Maths\n",
      "3 : Physics\n",
      "4 : ComputerScience\n"
     ]
    }
   ],
   "source": [
    "courses = ['History','Maths','Physics','ComputerScience']\n",
    "\n",
    "for item in courses:\n",
    "    print(item)\n",
    "    \n",
    "# for the index too\n",
    "\n",
    "for index,item in enumerate(courses):\n",
    "    print(f\"{index} : {item}\")\n",
    "\n",
    "# Start the index from 1 not from default 0\n",
    "for index,item in enumerate(courses,start = 1):\n",
    "    print(f\"{index} : {item}\")  "
   ]
  },
  {
   "cell_type": "markdown",
   "id": "e591120c",
   "metadata": {},
   "source": [
    "# Tuples\n",
    "tuples are immutable"
   ]
  },
  {
   "cell_type": "code",
   "execution_count": 50,
   "id": "b363b239",
   "metadata": {},
   "outputs": [
    {
     "name": "stdout",
     "output_type": "stream",
     "text": [
      "['History', 'Maths', 'English']\n",
      "['History', 'Maths', 'English']\n",
      "['Art', 'Maths', 'English']\n",
      "('History', 'Maths', 'Science')\n",
      "('History', 'Maths', 'Science')\n"
     ]
    },
    {
     "ename": "TypeError",
     "evalue": "'tuple' object does not support item assignment",
     "output_type": "error",
     "traceback": [
      "\u001b[1;31m---------------------------------------------------------------------------\u001b[0m",
      "\u001b[1;31mTypeError\u001b[0m                                 Traceback (most recent call last)",
      "\u001b[1;32m~\\AppData\\Local\\Temp\\ipykernel_18144\\531824873.py\u001b[0m in \u001b[0;36m<module>\u001b[1;34m\u001b[0m\n\u001b[0;32m     16\u001b[0m \u001b[0mprint\u001b[0m\u001b[1;33m(\u001b[0m\u001b[0mtuple_2\u001b[0m\u001b[1;33m)\u001b[0m\u001b[1;33m\u001b[0m\u001b[1;33m\u001b[0m\u001b[0m\n\u001b[0;32m     17\u001b[0m \u001b[1;33m\u001b[0m\u001b[0m\n\u001b[1;32m---> 18\u001b[1;33m \u001b[0mtuple_1\u001b[0m\u001b[1;33m[\u001b[0m\u001b[1;36m0\u001b[0m\u001b[1;33m]\u001b[0m \u001b[1;33m=\u001b[0m \u001b[1;34m'ARt'\u001b[0m \u001b[1;31m# type error\u001b[0m\u001b[1;33m\u001b[0m\u001b[1;33m\u001b[0m\u001b[0m\n\u001b[0m\u001b[0;32m     19\u001b[0m \u001b[0mprint\u001b[0m\u001b[1;33m(\u001b[0m\u001b[0mtuple_1\u001b[0m\u001b[1;33m)\u001b[0m\u001b[1;33m\u001b[0m\u001b[1;33m\u001b[0m\u001b[0m\n",
      "\u001b[1;31mTypeError\u001b[0m: 'tuple' object does not support item assignment"
     ]
    }
   ],
   "source": [
    "# Mutable list\n",
    "list_1 = ['History', 'Maths', 'English']\n",
    "list_2 = list_1\n",
    "\n",
    "print(list_1)\n",
    "print(list_2)\n",
    "\n",
    "list_1[0] = 'Art'\n",
    "print(list_1)\n",
    "\n",
    "# tuple is immutable\n",
    "tuple_1 = ('History','Maths','Science')\n",
    "tuple_2 = tuple_1\n",
    "\n",
    "print(tuple_1)\n",
    "print(tuple_2)\n",
    "\n",
    "tuple_1[0] = 'ARt' # type error\n",
    "print(tuple_1)"
   ]
  },
  {
   "cell_type": "markdown",
   "id": "14861e32",
   "metadata": {},
   "source": [
    "# Sets"
   ]
  },
  {
   "cell_type": "code",
   "execution_count": 53,
   "id": "4ca8826b",
   "metadata": {},
   "outputs": [
    {
     "name": "stdout",
     "output_type": "stream",
     "text": [
      "{'Data Analytics', 'Data science', 'Machine Learning'}\n",
      "False\n"
     ]
    }
   ],
   "source": [
    "# it only prints non duplicate ones\n",
    "fields = {'Data science','Machine Learning','Data Analytics', 'Data Analytics'}\n",
    "print(fields)\n",
    "\n",
    "print('Math' in fields) "
   ]
  },
  {
   "cell_type": "code",
   "execution_count": 56,
   "id": "a0325c00",
   "metadata": {},
   "outputs": [
    {
     "name": "stdout",
     "output_type": "stream",
     "text": [
      "{'Data science'}\n",
      "{'Data Analytics', 'Machine Learning'}\n",
      "{'Data Analytics', 'Data science', 'Mahts', 'Science', 'Machine Learning'}\n"
     ]
    }
   ],
   "source": [
    "# Intersection\n",
    "field_1 = {'Data science','Machine Learning','Data Analytics', 'Data Analytics'}\n",
    "field_2 = {'Data science','Mahts','Science'}\n",
    "\n",
    "print(field_1.intersection(field_2 # gives common\n",
    "\n",
    "print(field_1.difference(field_2)) # gives non common\n",
    "\n",
    "print(field_1.union(field_2)) # gives all combined no duplicates"
   ]
  },
  {
   "cell_type": "markdown",
   "id": "b2728b8b",
   "metadata": {},
   "source": [
    "# Emptys\n"
   ]
  },
  {
   "cell_type": "code",
   "execution_count": 57,
   "id": "400dacb0",
   "metadata": {},
   "outputs": [],
   "source": [
    "# Empty list\n",
    "empty_list = []\n",
    "empty_list_1 = list()\n",
    "\n",
    "# Empty Tuple\n",
    "empty_tuple = ()\n",
    "empty_tuple_1 = tuple()\n",
    "\n",
    "# Empty Sets\n",
    "empty_sets = {} # this is not right this indicated dictionary\n",
    "empty_sets_correct = set()"
   ]
  },
  {
   "cell_type": "code",
   "execution_count": null,
   "id": "d985c357",
   "metadata": {},
   "outputs": [],
   "source": []
  }
 ],
 "metadata": {
  "kernelspec": {
   "display_name": "Python 3 (ipykernel)",
   "language": "python",
   "name": "python3"
  },
  "language_info": {
   "codemirror_mode": {
    "name": "ipython",
    "version": 3
   },
   "file_extension": ".py",
   "mimetype": "text/x-python",
   "name": "python",
   "nbconvert_exporter": "python",
   "pygments_lexer": "ipython3",
   "version": "3.9.13"
  }
 },
 "nbformat": 4,
 "nbformat_minor": 5
}
