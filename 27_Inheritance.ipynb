{
 "cells": [
  {
   "cell_type": "code",
   "execution_count": 2,
   "metadata": {},
   "outputs": [
    {
     "name": "stdout",
     "output_type": "stream",
     "text": [
      "Corey.Schafer@gmail.com\n",
      "Test.Employee@gmail.com\n",
      "Test.Employee@gmail.com\n",
      "Corey.Schafer@gmail.com\n"
     ]
    }
   ],
   "source": [
    "class Employee:\n",
    "    raise_amt = 1.04\n",
    "\n",
    "    def __init__(self,first,last,pay):\n",
    "        self.first = first\n",
    "        self.last = last\n",
    "        self.email = first + '.' + last + '@gmail.com'\n",
    "        self.pay = pay \n",
    "\n",
    "    def fullname(self):\n",
    "        return f'{self.first} {self.last}'\n",
    "    \n",
    "    def apply_raise(self):\n",
    "        self.pay = int(self.pay * Employee.raise_amt)\n",
    "\n",
    "\n",
    "#inheriting from employee\n",
    "class Developer(Employee):\n",
    "    pass \n",
    "\n",
    "dev1 = Employee('Corey','Schafer',50000)\n",
    "dev2 = Employee('Test','Employee',60000)\n",
    "\n",
    "print(dev1.email)\n",
    "print(dev2.email)\n",
    "\n",
    "\n",
    "\n",
    "dev3 = Developer('Corey','Schafer',50000)\n",
    "dev4 = Developer('Test','Employee',60000)\n",
    "print(dev4.email)\n",
    "print(dev3.email)"
   ]
  },
  {
   "cell_type": "code",
   "execution_count": 3,
   "metadata": {},
   "outputs": [
    {
     "name": "stdout",
     "output_type": "stream",
     "text": [
      "Help on class Developer in module __main__:\n",
      "\n",
      "class Developer(Employee)\n",
      " |  Developer(first, last, pay)\n",
      " |  \n",
      " |  Method resolution order:\n",
      " |      Developer\n",
      " |      Employee\n",
      " |      builtins.object\n",
      " |  \n",
      " |  Methods inherited from Employee:\n",
      " |  \n",
      " |  __init__(self, first, last, pay)\n",
      " |      Initialize self.  See help(type(self)) for accurate signature.\n",
      " |  \n",
      " |  apply_raise(self)\n",
      " |  \n",
      " |  fullname(self)\n",
      " |  \n",
      " |  ----------------------------------------------------------------------\n",
      " |  Data descriptors inherited from Employee:\n",
      " |  \n",
      " |  __dict__\n",
      " |      dictionary for instance variables (if defined)\n",
      " |  \n",
      " |  __weakref__\n",
      " |      list of weak references to the object (if defined)\n",
      " |  \n",
      " |  ----------------------------------------------------------------------\n",
      " |  Data and other attributes inherited from Employee:\n",
      " |  \n",
      " |  raise_amt = 1.04\n",
      "\n",
      "None\n"
     ]
    }
   ],
   "source": [
    "# shows from where we are getting data, i.e Method resolution order, first in Develoepr if not foudn then Employee and even not found then builtints\n",
    "print(help(Developer))"
   ]
  },
  {
   "cell_type": "code",
   "execution_count": 7,
   "metadata": {},
   "outputs": [
    {
     "name": "stdout",
     "output_type": "stream",
     "text": [
      "67491\n",
      "70190\n",
      "\n",
      "70190\n",
      "72997\n"
     ]
    }
   ],
   "source": [
    "# this is for develoepr class but old pay rise\n",
    "print(dev4.pay)\n",
    "dev4.apply_raise()\n",
    "print(dev4.pay)\n",
    "\n",
    "print()\n",
    "\n",
    "#suppose we want to change the payrise % , then customize using simple way is to change value of variable in develoepr class\n",
    "class Developer(Employee):\n",
    "    raise_amt = 2.56\n",
    "\n",
    "print(dev4.pay)\n",
    "dev4.apply_raise()\n",
    "print(dev4.pay)"
   ]
  },
  {
   "cell_type": "code",
   "execution_count": 8,
   "metadata": {},
   "outputs": [
    {
     "name": "stdout",
     "output_type": "stream",
     "text": [
      "Python saljesh\n",
      "Java anish\n"
     ]
    }
   ],
   "source": [
    "#suppose i want programming language in developer but we only have three (first, last, and pay only)\n",
    "class Developer(Employee):\n",
    "    raise_amt = 4.567\n",
    "\n",
    "    def __init__(self,first,last,pay,programming_language):\n",
    "        # two ways to keep code DRY\n",
    "        #just call parent\n",
    "        super().__init__(first,last,pay)\n",
    "        #Employee.__init__(self,first,last,pay) \n",
    "\n",
    "        self.programming_language = programming_language\n",
    "\n",
    "\n",
    "pythonDev = Developer('saljesh','maharjan',67000,'Python')\n",
    "javaDev = Developer('anish','shakya',90333,'Java')\n",
    "\n",
    "\n",
    "print(pythonDev.programming_language+ ' ' + pythonDev.first)\n",
    "print(javaDev.programming_language+ ' ' + javaDev.first)\n"
   ]
  },
  {
   "cell_type": "code",
   "execution_count": 13,
   "metadata": {},
   "outputs": [
    {
     "name": "stdout",
     "output_type": "stream",
     "text": [
      "Sue.Smith@gmail.com\n",
      "--> Corey Schafer\n"
     ]
    }
   ],
   "source": [
    "class Manager(Employee):\n",
    "\n",
    "    def __init__(self,first,last,pay,employees=None): # never pass employees=[] , because its mutable\n",
    "        super().__init__(first,last,pay)\n",
    "\n",
    "        if employees is None:\n",
    "            self.employees = []\n",
    "        else:\n",
    "            self.employees = employees\n",
    "\n",
    "    def add_emp(self,emp):\n",
    "        if emp not in self.employees:\n",
    "            self.employees.append(emp)\n",
    "\n",
    "    def remove_emp(self,emp):\n",
    "        if emp in self.employees:\n",
    "            self.employees.remove(emp)\n",
    "\n",
    "    def print_emps(self):\n",
    "        for emp in self.employees:\n",
    "            print('-->', emp.fullname())\n",
    "\n",
    "\n",
    "manager1 = Manager('Sue','Smith',98000,[dev3])\n",
    "print(manager1.email)\n",
    "\n",
    "manager1.add_emp(dev4)\n",
    "\n",
    "manager1.remove_emp(dev4)\n",
    "\n",
    "manager1.print_emps()\n"
   ]
  },
  {
   "cell_type": "code",
   "execution_count": 18,
   "metadata": {},
   "outputs": [
    {
     "name": "stdout",
     "output_type": "stream",
     "text": [
      "True\n",
      "False\n",
      "---\n",
      "True\n",
      "False\n"
     ]
    }
   ],
   "source": [
    "# built in function\n",
    "# isInstance()  \n",
    "\n",
    "print(isinstance(manager1,Employee))\n",
    "print(isinstance(manager1,Developer))\n",
    "\n",
    "print('---')\n",
    "\n",
    "# is Subclass - is subclass of anmother\n",
    "print(issubclass(Manager,Employee))\n",
    "print(issubclass(Manager,Developer))"
   ]
  },
  {
   "cell_type": "code",
   "execution_count": null,
   "metadata": {},
   "outputs": [],
   "source": []
  }
 ],
 "metadata": {
  "kernelspec": {
   "display_name": "Python 3",
   "language": "python",
   "name": "python3"
  },
  "language_info": {
   "codemirror_mode": {
    "name": "ipython",
    "version": 3
   },
   "file_extension": ".py",
   "mimetype": "text/x-python",
   "name": "python",
   "nbconvert_exporter": "python",
   "pygments_lexer": "ipython3",
   "version": "3.11.2"
  },
  "orig_nbformat": 4
 },
 "nbformat": 4,
 "nbformat_minor": 2
}
