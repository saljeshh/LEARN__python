{
 "cells": [
  {
   "attachments": {},
   "cell_type": "markdown",
   "metadata": {},
   "source": [
    "# Date Time"
   ]
  },
  {
   "cell_type": "code",
   "execution_count": 26,
   "metadata": {},
   "outputs": [
    {
     "name": "stdout",
     "output_type": "stream",
     "text": [
      "2023-02-12\n",
      "2023-03-10\n",
      "10\n",
      "4\n",
      "5\n",
      "2023-03-16\n",
      "2023-03-04\n",
      "69 days, 0:00:00\n",
      "69\n",
      "5961600.0\n"
     ]
    }
   ],
   "source": [
    "import datetime\n",
    "\n",
    "# naive(dont have enough information, easier to work with) and aware(enough information)\n",
    "\n",
    "# naive datetime\n",
    "\n",
    "# DATETIME.DATE---------\n",
    "\n",
    "# d = datetime.date(2023,02,12) - this will give me error\n",
    "dat = datetime.date(2023,2,12)\n",
    "print(dat)\n",
    "\n",
    "tday = datetime.date.today()\n",
    "print(tday)\n",
    "print(tday.day)\n",
    "print(tday.weekday()) # Monday 0 sunday 6 -- cheat for weekday\n",
    "print(tday.isoweekday()) # Monday 1 sunday 6 -- cheat for isoweekday\n",
    "\n",
    "tdelta = datetime.timedelta(days = 6)\n",
    "print(tday + tdelta) # date one week later\n",
    "\n",
    "print(tday - tdelta) # date one week ago\n",
    "\n",
    "# date2 = date1 + timedelta\n",
    "# timedelta = date1 + date2\n",
    "\n",
    "bday = datetime.date(2023,5,18)\n",
    "till_bday = bday - tday\n",
    "print(till_bday)\n",
    "print(till_bday.days)\n",
    "print(till_bday.total_seconds())"
   ]
  },
  {
   "cell_type": "code",
   "execution_count": 41,
   "metadata": {},
   "outputs": [
    {
     "name": "stdout",
     "output_type": "stream",
     "text": [
      "09:30:43.120000\n",
      "9\n",
      "2023-07-26 12:30:45.100000\n",
      "2023-07-26\n",
      "12:30:45.100000\n",
      "2023-08-02 12:30:45.100000\n",
      "2023-08-02 12:30:45.100000\n",
      "\n",
      "2023-03-10 22:02:22.243436\n",
      "2023-03-10 22:02:22.243436\n",
      "2023-03-10 16:17:22.243436\n"
     ]
    }
   ],
   "source": [
    "import datetime \n",
    "# DATETIME.TIME - this doesnt have timezone info so stil naive\n",
    "# datetime.date gave us year, month and day but datetime.time doesnt give this but hour, minute, millisecond only\n",
    "\n",
    "t = datetime.time(9,30,43,120000) # hour, minute, second, millisecond\n",
    "print(t)\n",
    "print(t.hour)\n",
    "\n",
    "# DATETIME.DATETIME\n",
    "td = datetime.datetime(2023,7,26,12,30,45,100000) # this has all date and time\n",
    "print(td)\n",
    "\n",
    "print(td.date()) # stil give datetime.date\n",
    "print(td.time()) # gives datetime.time\n",
    "\n",
    "\n",
    "# timedelta is difference between two dates\n",
    "tdelta = datetime.timedelta(days = 7)\n",
    "print(td + tdelta)\n",
    "\n",
    "new_tdelta = datetime.timedelta(hours = 5)\n",
    "print(td + tdelta)\n",
    "print()\n",
    "\n",
    "# Alternative constructor that comes with datetime\n",
    "# if parameters are emppty then its all same\n",
    "dt_today = datetime.datetime.today()\n",
    "dt_now = datetime.datetime.now()\n",
    "dt_utcnow = datetime.datetime.utcnow()\n",
    "\n",
    "print(dt_today)\n",
    "print(dt_now)\n",
    "print(dt_utcnow)\n",
    "\n",
    "\n"
   ]
  },
  {
   "cell_type": "code",
   "execution_count": 48,
   "metadata": {},
   "outputs": [
    {
     "name": "stdout",
     "output_type": "stream",
     "text": [
      "2023-07-27 12:30:45+00:00\n",
      "2023-03-10 16:36:16.796027+00:00\n",
      "2023-03-10 16:36:16.796027+00:00\n",
      "2023-03-10 09:36:16.796027-07:00\n"
     ]
    }
   ],
   "source": [
    "# pip install pytz\n",
    "import datetime\n",
    "import pytz\n",
    "\n",
    "# alswyas work with UTC when working with timezone \n",
    "# aware\n",
    "dt = datetime.datetime(2023,7,27,12,30,45, tzinfo=pytz.UTC)\n",
    "print(dt)\n",
    "\n",
    "# this .now wala is easy, its aware\n",
    "dt_now = datetime.datetime.now(tz=pytz.UTC)\n",
    "print(dt_now)\n",
    "\n",
    "dt_utcnow = datetime.datetime.utcnow().replace(tzinfo=pytz.UTC)\n",
    "print(dt_utcnow)\n",
    "\n",
    "# converting to differnt timezone\n",
    "dt_mountain = dt_now.astimezone(pytz.timezone('US/Mountain'))\n",
    "print(dt_mountain)\n",
    "\n",
    "# for tz in pytz.all_timezones:\n",
    "#     print(tz)\n"
   ]
  },
  {
   "cell_type": "code",
   "execution_count": 52,
   "metadata": {},
   "outputs": [
    {
     "name": "stdout",
     "output_type": "stream",
     "text": [
      "2023-03-10 22:23:12.462455\n",
      "2023-03-10 09:38:12.462455-07:00\n"
     ]
    }
   ],
   "source": [
    "import datetime\n",
    "\n",
    "# naive to timezone aware\n",
    "dt_mtns = datetime.datetime.now()\n",
    "print(dt_mtns)\n",
    "\n",
    "dt_east = dt_mtns.astimezone(pytz.timezone('US/Mountain'))\n",
    "print(dt_east)"
   ]
  },
  {
   "cell_type": "code",
   "execution_count": 57,
   "metadata": {},
   "outputs": [
    {
     "name": "stdout",
     "output_type": "stream",
     "text": [
      "2023-03-10T09:47:47.117456-07:00\n",
      "March 10, 2023\n",
      "2023-03-10 00:00:00\n"
     ]
    }
   ],
   "source": [
    "# ISO Format\n",
    "import datetime\n",
    "import pytz \n",
    "\n",
    "dt_mtn = datetime.datetime.now(tz=pytz.timezone('US/Mountain'))\n",
    "print(dt_mtn.isoformat())\n",
    "\n",
    "#find these code in docs\n",
    "print(dt_mtn.strftime('%B %d, %Y'))\n",
    "\n",
    "#string to datetime\n",
    "dt_str = 'March 10, 2023'\n",
    "dt = datetime.datetime.strptime(dt_str,'%B %d, %Y') # second parameter what it looks like\n",
    "print(dt)\n",
    "\n",
    "# strftime - datetime tp string\n",
    "# strptime - string to datetime"
   ]
  },
  {
   "cell_type": "code",
   "execution_count": null,
   "metadata": {},
   "outputs": [],
   "source": []
  }
 ],
 "metadata": {
  "kernelspec": {
   "display_name": "Python 3",
   "language": "python",
   "name": "python3"
  },
  "language_info": {
   "codemirror_mode": {
    "name": "ipython",
    "version": 3
   },
   "file_extension": ".py",
   "mimetype": "text/x-python",
   "name": "python",
   "nbconvert_exporter": "python",
   "pygments_lexer": "ipython3",
   "version": "3.11.2"
  },
  "orig_nbformat": 4
 },
 "nbformat": 4,
 "nbformat_minor": 2
}
