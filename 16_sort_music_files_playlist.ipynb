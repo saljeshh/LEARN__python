{
 "cells": [
  {
   "cell_type": "code",
   "execution_count": 27,
   "metadata": {},
   "outputs": [
    {
     "name": "stdout",
     "output_type": "stream",
     "text": [
      "d:\\demo music data for python\n",
      "04 - Earth.txt\n",
      "06 - Jupiter.txt\n",
      "05 - Mars.txt\n",
      "02 - Mercury.txt\n",
      "08 - Neptune.txt\n",
      "10 - Pluto.txt\n",
      "07 - Saturn.txt\n",
      "01 - The Sun.txt\n",
      "09 - Uranus.txt\n",
      "03 - Venus.txt\n"
     ]
    }
   ],
   "source": [
    "import os\n",
    "\n",
    "os.chdir('/demo music data for python')\n",
    "\n",
    "print(os.getcwd())\n",
    "\n",
    "\n",
    "for f in os.listdir():\n",
    "    #print(f)\n",
    "    #print(os.path.splitext(f))\n",
    "    f_name, f_extension = os.path.splitext(f)\n",
    "    #print(f_name.split('-'))\n",
    "    f_title, f_course, f_num = f_name.split('-')\n",
    "\n",
    "    # to remove the spaces after and before the title and num we use \n",
    "    f_title = f_title.strip()\n",
    "    f_course = f_course.strip()\n",
    "\n",
    "    # Removing # tag from front of the number\n",
    "    #   f_num = f_num.strip()[1:]\n",
    "\n",
    "    # but the 10 and 1 will create error as both start with 1 so we need to prefix 01,03 like this\n",
    "    f_num = f_num.strip()[1:].zfill(2) # 2 means 01,02\n",
    "\n",
    "    # print(f\"{f_num} - {f_title}{f_extension}\")\n",
    "\n",
    "    new_name = f\"{f_num} - {f_title}{f_extension}\"\n",
    "    print(new_name)\n",
    "\n",
    "    # now lets make change to the original dir\n",
    "    os.rename(f,new_name)\n",
    "   \n",
    "\n",
    "\n",
    "\n"
   ]
  },
  {
   "cell_type": "code",
   "execution_count": null,
   "metadata": {},
   "outputs": [],
   "source": []
  }
 ],
 "metadata": {
  "kernelspec": {
   "display_name": "Python 3",
   "language": "python",
   "name": "python3"
  },
  "language_info": {
   "codemirror_mode": {
    "name": "ipython",
    "version": 3
   },
   "file_extension": ".py",
   "mimetype": "text/x-python",
   "name": "python",
   "nbconvert_exporter": "python",
   "pygments_lexer": "ipython3",
   "version": "3.11.2"
  },
  "orig_nbformat": 4
 },
 "nbformat": 4,
 "nbformat_minor": 2
}
