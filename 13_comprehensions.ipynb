{
 "cells": [
  {
   "cell_type": "code",
   "execution_count": 7,
   "metadata": {},
   "outputs": [
    {
     "name": "stdout",
     "output_type": "stream",
     "text": [
      "[1, 2, 3, 4, 5, 6, 7, 8, 9, 10]\n",
      "[1, 2, 3, 4, 5, 6, 7, 8, 9, 10]\n",
      "[1, 4, 9, 16, 25, 36, 49, 64, 81, 100]\n",
      "[1, 4, 9, 16, 25, 36, 49, 64, 81, 100]\n",
      "<map object at 0x000002712217DB70>\n",
      "[1, 4, 9, 16, 25, 36, 49, 64, 81, 100]\n"
     ]
    }
   ],
   "source": [
    "nums = [1,2,3,4,5,6,7,8,9,10]\n",
    "\n",
    "\n",
    "# I want 'n' for each 'n' in nums\n",
    "my_list = []\n",
    "for n in nums:\n",
    "    my_list.append(n)\n",
    "print(my_list)\n",
    "\n",
    "# list comprehension\n",
    "my_list1 = [n for n in nums]\n",
    "print(my_list1)\n",
    "\n",
    "\n",
    "# Example 2\n",
    "mul_list = []\n",
    "for n in nums:\n",
    "    mul_list.append(n*n)\n",
    "print(mul_list)\n",
    "\n",
    "# using list comprehension\n",
    "mul_list1 = [n*n for n in nums]\n",
    "print(mul_list1)\n",
    "\n",
    "# using map + lambda\n",
    "my_list = map(lambda n: n*n, nums)\n",
    "print(my_list)\n",
    "print(list(my_list))"
   ]
  },
  {
   "cell_type": "code",
   "execution_count": 17,
   "metadata": {},
   "outputs": [
    {
     "name": "stdout",
     "output_type": "stream",
     "text": [
      "[2, 4]\n",
      "[2, 4]\n"
     ]
    },
    {
     "ename": "TypeError",
     "evalue": "'filter' object is not callable",
     "output_type": "error",
     "traceback": [
      "\u001b[1;31m---------------------------------------------------------------------------\u001b[0m",
      "\u001b[1;31mTypeError\u001b[0m                                 Traceback (most recent call last)",
      "Cell \u001b[1;32mIn[17], line 17\u001b[0m\n\u001b[0;32m     15\u001b[0m \u001b[39mdef\u001b[39;00m \u001b[39mfunc\u001b[39m(nums):\n\u001b[0;32m     16\u001b[0m     \u001b[39mreturn\u001b[39;00m nums \u001b[39m%\u001b[39m \u001b[39m2\u001b[39m \u001b[39m==\u001b[39m \u001b[39m0\u001b[39m\n\u001b[1;32m---> 17\u001b[0m newer \u001b[39m=\u001b[39m \u001b[39mfilter\u001b[39;49m(func, nums)\n\u001b[0;32m     18\u001b[0m \u001b[39mprint\u001b[39m(\u001b[39mlist\u001b[39m(newer))\n",
      "\u001b[1;31mTypeError\u001b[0m: 'filter' object is not callable"
     ]
    }
   ],
   "source": [
    "# I want 'n' for each 'n' in nums if 'n' is even\n",
    "nums = [1,2,3,4,5]\n",
    "\n",
    "my_list = []\n",
    "for n in nums:\n",
    "    if n%2 == 0:\n",
    "        my_list.append(n)\n",
    "print(my_list)\n",
    "\n",
    "# using list comprehensaion\n",
    "new_list = [n for n in nums if n%2 == 0]\n",
    "print(new_list)\n",
    "\n",
    "# using filter + lambda\n",
    "def func(nums):\n",
    "    return nums % 2 == 0\n",
    "newer = filter(func, nums)\n",
    "\n",
    "print(list(newer))"
   ]
  },
  {
   "cell_type": "code",
   "execution_count": 19,
   "metadata": {},
   "outputs": [
    {
     "name": "stdout",
     "output_type": "stream",
     "text": [
      "[('a', 0), ('a', 1), ('a', 2), ('a', 3), ('b', 0), ('b', 1), ('b', 2), ('b', 3), ('c', 0), ('c', 1), ('c', 2), ('c', 3), ('d', 0), ('d', 1), ('d', 2), ('d', 3)]\n",
      "[('a', 0), ('a', 1), ('a', 2), ('a', 3), ('b', 0), ('b', 1), ('b', 2), ('b', 3), ('c', 0), ('c', 1), ('c', 2), ('c', 3), ('d', 0), ('d', 1), ('d', 2), ('d', 3)]\n"
     ]
    }
   ],
   "source": [
    "nums = [1,2,3,4,5,6,7,8,9,10]\n",
    "# I want  a (letter, num) pair for each letter in 'abcd' and each number in '0123'\n",
    "my_list = []\n",
    "\n",
    "for letter in 'abcd':\n",
    "    for num in range(4):\n",
    "        my_list.append((letter,num))\n",
    "print(my_list)\n",
    "\n",
    "\n",
    "# using list comprensesation\n",
    "new_list = [(letter,num) for letter in 'abcd' for num in range(4)]\n",
    "print(new_list)\n"
   ]
  },
  {
   "cell_type": "code",
   "execution_count": 26,
   "metadata": {},
   "outputs": [
    {
     "name": "stdout",
     "output_type": "stream",
     "text": [
      "(('Brue', 'Batman'), ('clark', 'superman'), ('peter', 'spiderman'), ('logan', 'wolverien'), ('wade', 'deadpool'))\n",
      "{'Brue': 'Batman', 'clark': 'superman', 'peter': 'spiderman', 'logan': 'wolverien', 'wade': 'deadpool'}\n",
      "{'Brue': 'Batman', 'clark': 'superman', 'peter': 'spiderman', 'logan': 'wolverien', 'wade': 'deadpool'}\n",
      "{'Brue': 'Batman', 'clark': 'superman', 'logan': 'wolverien', 'wade': 'deadpool'}\n",
      "{'Brue': 'Batman', 'clark': 'superman', 'peter': 'spiderman', 'logan': 'wolverien'}\n"
     ]
    }
   ],
   "source": [
    "# Dictionary comprensentaion\n",
    "names = ['Brue','clark','peter','logan','wade']\n",
    "heros = ['Batman','superman','spiderman','wolverien','deadpool']\n",
    "\n",
    "print(tuple(zip(names,heros)))\n",
    "\n",
    "# now lets create dictionary from the zipped lists\n",
    "dicts = {}\n",
    "\n",
    "for name, hero in zip(names,heros):\n",
    "    dicts[name] = hero\n",
    "print(dicts)\n",
    "\n",
    "# dictionary comprensenation\n",
    "my_dict_comp = {name:hero for name, hero in zip(names,heros)}\n",
    "print(my_dict_comp)\n",
    "\n",
    "\n",
    "#everything same but i dont want to add peter in the dictionary\n",
    "peter_dict = {}\n",
    "for name,hero in zip(names,heros):\n",
    "    if(name == 'peter'):\n",
    "        continue\n",
    "    peter_dict[name] = hero\n",
    "\n",
    "print(peter_dict)\n",
    "\n",
    "# now same thing no wade using list comprensenation\n",
    "new_peter_comp = {name:hero for name,hero in zip(names,heros) if name != 'wade'}\n",
    "print(new_peter_comp)"
   ]
  },
  {
   "cell_type": "code",
   "execution_count": 28,
   "metadata": {},
   "outputs": [
    {
     "name": "stdout",
     "output_type": "stream",
     "text": [
      "{1, 2, 3, 4, 5, 6, 7, 8, 9}\n",
      "{1, 2, 3, 4, 5, 6, 7, 8, 9}\n"
     ]
    }
   ],
   "source": [
    "# set comprenhesnstion\n",
    "nums = [1,1,2,1,3,4,2,4,5,5,6,7,8,7,9,9]\n",
    "my_set = set()\n",
    "\n",
    "for n in nums:\n",
    "    my_set.add(n)\n",
    "\n",
    "print(my_set)\n",
    "\n",
    "\n",
    "# using comprenhesnsation\n",
    "my_set = {n for n in nums}\n",
    "print(my_set)"
   ]
  },
  {
   "cell_type": "code",
   "execution_count": 32,
   "metadata": {},
   "outputs": [
    {
     "name": "stdout",
     "output_type": "stream",
     "text": [
      "<generator object gen_func at 0x00000271227CF100>\n",
      "1\n",
      "4\n",
      "9\n",
      "16\n",
      "25\n",
      "36\n",
      "49\n",
      "64\n",
      "81\n",
      "100\n",
      "\n",
      "1\n",
      "4\n",
      "9\n",
      "16\n",
      "25\n",
      "36\n",
      "49\n",
      "64\n",
      "81\n",
      "100\n"
     ]
    }
   ],
   "source": [
    "# Generator Expressions\n",
    "# I want to yield 'n*n' for each 'n' in nums\n",
    "nums = [1,2,3,4,5,6,7,8,9,10]\n",
    "\n",
    "def gen_func(nums):\n",
    "    for n in nums:\n",
    "        yield n*n \n",
    "\n",
    "my_gen = gen_func(nums)\n",
    "\n",
    "print(my_gen)\n",
    "\n",
    "for i in my_gen:\n",
    "    print(i)\n",
    "\n",
    "print()\n",
    "\n",
    "# generator comprenhension\n",
    "my_gens = (n*n for n in nums)\n",
    "\n",
    "for i in my_gens:\n",
    "    print(i)"
   ]
  },
  {
   "cell_type": "code",
   "execution_count": null,
   "metadata": {},
   "outputs": [],
   "source": []
  }
 ],
 "metadata": {
  "kernelspec": {
   "display_name": "Python 3",
   "language": "python",
   "name": "python3"
  },
  "language_info": {
   "codemirror_mode": {
    "name": "ipython",
    "version": 3
   },
   "file_extension": ".py",
   "mimetype": "text/x-python",
   "name": "python",
   "nbconvert_exporter": "python",
   "pygments_lexer": "ipython3",
   "version": "3.11.2"
  },
  "orig_nbformat": 4
 },
 "nbformat": 4,
 "nbformat_minor": 2
}
