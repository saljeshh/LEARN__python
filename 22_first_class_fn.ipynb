{
 "cells": [
  {
   "attachments": {},
   "cell_type": "markdown",
   "metadata": {},
   "source": [
    "# First-Class Function\n",
    "\"A Programming language is said to have first-class function if it treats functions as first-class citizens.\"\n",
    "\n",
    "# First Class Citizen(Programming)\n",
    "\"A first class citizen(sometimes called first class objects) in a programming language is an entity which suports all the oeprations generally available\n",
    "to other entities. These operations typically include being passed as an argument, returned from a function, and assigned to a variable\""
   ]
  },
  {
   "cell_type": "markdown",
   "metadata": {},
   "source": []
  }
 ],
 "metadata": {
  "language_info": {
   "name": "python"
  },
  "orig_nbformat": 4
 },
 "nbformat": 4,
 "nbformat_minor": 2
}
