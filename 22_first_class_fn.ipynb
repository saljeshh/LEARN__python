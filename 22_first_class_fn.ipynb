{
 "cells": [
  {
   "attachments": {},
   "cell_type": "markdown",
   "metadata": {},
   "source": [
    "# First-Class Function\n",
    "\"A Programming language is said to have first-class function if it treats functions as first-class citizens.\"\n",
    "\n",
    "# First Class Citizen(Programming)\n",
    "\"A first class citizen(sometimes called first class objects) in a programming language is an entity which suports all the oeprations generally available\n",
    "to other entities. These operations typically include being passed as an argument, returned from a function, and assigned to a variable\""
   ]
  },
  {
   "cell_type": "code",
   "execution_count": 3,
   "metadata": {},
   "outputs": [
    {
     "name": "stdout",
     "output_type": "stream",
     "text": [
      "<function square at 0x0000020EDB9B4CC0>\n",
      "<function square at 0x0000020EDB9B4CC0>\n",
      "25\n",
      "25\n"
     ]
    }
   ],
   "source": [
    "# python vs js\n",
    "\n",
    "def square(x):\n",
    "    return x * x \n",
    "\n",
    "f = square(5)\n",
    "\n",
    "f1 = square # no calling no paranthesis just store it\n",
    "print(f1)\n",
    "\n",
    "print(square)\n",
    "print(f)\n",
    "\n",
    "print(f1(5))"
   ]
  },
  {
   "attachments": {},
   "cell_type": "markdown",
   "metadata": {},
   "source": [
    "# Higher order functions\n",
    "- if a function accepts function as argument or returns functions as result then it is higher order function "
   ]
  },
  {
   "cell_type": "code",
   "execution_count": 4,
   "metadata": {},
   "outputs": [
    {
     "name": "stdout",
     "output_type": "stream",
     "text": [
      "[1, 4, 9, 16, 25]\n"
     ]
    }
   ],
   "source": [
    "# own higher order function\n",
    "\n",
    "def my_map(func, arg_list):\n",
    "    result = []\n",
    "    for i in arg_list:\n",
    "        result.append(func(i))\n",
    "    return result \n",
    "\n",
    "squares = my_map(square,[1,2,3,4,5])\n",
    "\n",
    "print(squares)"
   ]
  },
  {
   "cell_type": "code",
   "execution_count": 5,
   "metadata": {},
   "outputs": [
    {
     "name": "stdout",
     "output_type": "stream",
     "text": [
      "Log: HI\n"
     ]
    }
   ],
   "source": [
    "def logger(msg):\n",
    "\n",
    "    def log_message():\n",
    "        print('Log:',msg)\n",
    "\n",
    "    return log_message\n",
    "\n",
    "log_hi = logger(\"HI\")\n",
    "log_hi()"
   ]
  },
  {
   "cell_type": "code",
   "execution_count": 6,
   "metadata": {},
   "outputs": [
    {
     "name": "stdout",
     "output_type": "stream",
     "text": [
      "<h1>Testing Heading</h1>\n",
      "<h1>Another Heading</h1>\n",
      "<p>TEsting paragraph</p>\n"
     ]
    }
   ],
   "source": [
    "def html_tag(tag):\n",
    "    \n",
    "    def wrap_text(msg):\n",
    "        print('<{0}>{1}</{0}>'.format(tag,msg))\n",
    "\n",
    "    return wrap_text\n",
    "\n",
    "print_h1 = html_tag('h1')\n",
    "print_h1(\"Testing Heading\")\n",
    "print_h1('Another Heading')\n",
    "\n",
    "print_p = html_tag('p')\n",
    "print_p('TEsting paragraph')"
   ]
  }
 ],
 "metadata": {
  "kernelspec": {
   "display_name": "Python 3",
   "language": "python",
   "name": "python3"
  },
  "language_info": {
   "codemirror_mode": {
    "name": "ipython",
    "version": 3
   },
   "file_extension": ".py",
   "mimetype": "text/x-python",
   "name": "python",
   "nbconvert_exporter": "python",
   "pygments_lexer": "ipython3",
   "version": "3.11.2"
  },
  "orig_nbformat": 4
 },
 "nbformat": 4,
 "nbformat_minor": 2
}
