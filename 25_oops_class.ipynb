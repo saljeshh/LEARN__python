{
 "cells": [
  {
   "attachments": {},
   "cell_type": "markdown",
   "metadata": {},
   "source": [
    "# Classes"
   ]
  },
  {
   "cell_type": "code",
   "execution_count": 3,
   "metadata": {},
   "outputs": [
    {
     "name": "stdout",
     "output_type": "stream",
     "text": [
      "<__main__.Employee object at 0x000001E23E1AC1D0>\n",
      "<__main__.Employee object at 0x000001E23E1D5F90>\n",
      "\n",
      "saljeshmaharjan@gmail.com\n",
      "aneymae@gmail.com\n"
     ]
    }
   ],
   "source": [
    "class Employee:\n",
    "    pass \n",
    "\n",
    "emp1 = Employee()\n",
    "emp2 = Employee()\n",
    "\n",
    "print(emp1)\n",
    "print(emp2)\n",
    "\n",
    "# manually without class\n",
    "emp1.first = 'saljesh'\n",
    "emp1.last = 'maharjan'\n",
    "emp1.email = 'saljeshmaharjan@gmail.com'\n",
    "emp1.pay = 89000\n",
    "\n",
    "emp2.first = 'aney'\n",
    "emp2.last = 'maharjan'\n",
    "emp2.email = 'aneymae@gmail.com'\n",
    "emp2.pay = 97000\n",
    "\n",
    "print()\n",
    "print(emp1.email)\n",
    "print(emp2.email)"
   ]
  },
  {
   "cell_type": "code",
   "execution_count": 16,
   "metadata": {},
   "outputs": [
    {
     "name": "stdout",
     "output_type": "stream",
     "text": [
      "saljeshmaharjan@gmail.com\n",
      "Saljesh Maharjan\n",
      "Saljesh Maharjan\n"
     ]
    },
    {
     "data": {
      "text/plain": [
       "'Amey maey'"
      ]
     },
     "execution_count": 16,
     "metadata": {},
     "output_type": "execute_result"
    }
   ],
   "source": [
    "# using class\n",
    "class Employee:\n",
    "    # when we create function inside class we get instance as paramter by default , self is naming convention\n",
    "    def __init__(self,first,last,pay):\n",
    "        self.Fname = first \n",
    "        self.Lname = last \n",
    "        self.pay = pay \n",
    "        self.email = f\"{first.lower()}{last.lower()}@gmail.com\"\n",
    "\n",
    "    def fullname(self):\n",
    "        return '{} {}'.format(self.Fname, self.Lname)\n",
    "\n",
    "    def emails():\n",
    "        return self.email\n",
    "\n",
    "# Instance is passed automatically so we can leave it i.e self\n",
    "emp1 = Employee('Saljesh','Maharjan',45000)\n",
    "emp2 = Employee('Amey','maey',78000)\n",
    "\n",
    "print(emp1.email)\n",
    "\n",
    "# Imagine we want full name\n",
    "print('{} {}'.format(emp1.Fname, emp1.Lname))\n",
    "print(emp1.fullname())\n",
    "\n",
    "# we can also call by using class name but we need to pass instance in paramter this time\n",
    "Employee.fullname(emp2)\n",
    "\n",
    "\n",
    "# Error handling\n",
    "# TypeError: Employee.emails() takes 0 positional arguments but 1 was given\n",
    "# it means by default emails when called it sends emp1 as parameter that means arg was given but in emails there is no self so it throws error\n",
    "print(emp1.emails())"
   ]
  },
  {
   "cell_type": "code",
   "execution_count": null,
   "metadata": {},
   "outputs": [],
   "source": []
  }
 ],
 "metadata": {
  "kernelspec": {
   "display_name": "Python 3",
   "language": "python",
   "name": "python3"
  },
  "language_info": {
   "codemirror_mode": {
    "name": "ipython",
    "version": 3
   },
   "file_extension": ".py",
   "mimetype": "text/x-python",
   "name": "python",
   "nbconvert_exporter": "python",
   "pygments_lexer": "ipython3",
   "version": "3.11.2"
  },
  "orig_nbformat": 4
 },
 "nbformat": 4,
 "nbformat_minor": 2
}
