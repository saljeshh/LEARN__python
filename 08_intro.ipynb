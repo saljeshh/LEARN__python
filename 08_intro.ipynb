{
 "cells": [
  {
   "attachments": {},
   "cell_type": "markdown",
   "metadata": {},
   "source": [
    "# Importing moudle from my_module"
   ]
  },
  {
   "cell_type": "code",
   "execution_count": 3,
   "metadata": {},
   "outputs": [
    {
     "name": "stdout",
     "output_type": "stream",
     "text": [
      "1\n",
      "2\n"
     ]
    }
   ],
   "source": [
    "import my_module\n",
    "\n",
    "courses = ['History','Math','Physics','CompSci']\n",
    "\n",
    "index = my_module.find_index(courses,'Math')\n",
    "\n",
    "print(index)\n",
    "\n",
    "place = my_module.find_index(courses,'Physics')\n",
    "print(place)"
   ]
  },
  {
   "cell_type": "code",
   "execution_count": 5,
   "metadata": {},
   "outputs": [
    {
     "name": "stdout",
     "output_type": "stream",
     "text": [
      "4\n"
     ]
    }
   ],
   "source": [
    "import my_module as agriculture\n",
    "\n",
    "list = [1,2,3,4,5]\n",
    "\n",
    "u = agriculture.find_index(list,5)\n",
    "\n",
    "print(u)\n",
    "\n",
    "print(agriculture.test) # this can be accessed here as we imported whole module"
   ]
  },
  {
   "cell_type": "code",
   "execution_count": 10,
   "metadata": {},
   "outputs": [
    {
     "name": "stdout",
     "output_type": "stream",
     "text": [
      "4\n",
      "Test String\n"
     ]
    }
   ],
   "source": [
    "# We can also import the fucntion of module\n",
    "from my_module import find_index\n",
    "\n",
    "data = 'anmey'\n",
    "\n",
    "value = find_index(data,'y')\n",
    "print(value)\n",
    "\n",
    "#print(test) # we cant access test here as we only imported find_index\n",
    "\n",
    "from my_module import test as t\n",
    "print(t) # now it will work"
   ]
  },
  {
   "cell_type": "code",
   "execution_count": 11,
   "metadata": {},
   "outputs": [],
   "source": [
    "# import all \n",
    "from my_module import *\n",
    "# now we can access both test and our find_index()"
   ]
  },
  {
   "cell_type": "code",
   "execution_count": 12,
   "metadata": {},
   "outputs": [
    {
     "name": "stdout",
     "output_type": "stream",
     "text": [
      "['d:\\\\00_Corey Schafter Begineer Series', 'c:\\\\Users\\\\Saljesh Maharjan\\\\AppData\\\\Local\\\\Programs\\\\Python\\\\Python311\\\\python311.zip', 'c:\\\\Users\\\\Saljesh Maharjan\\\\AppData\\\\Local\\\\Programs\\\\Python\\\\Python311\\\\DLLs', 'c:\\\\Users\\\\Saljesh Maharjan\\\\AppData\\\\Local\\\\Programs\\\\Python\\\\Python311\\\\Lib', 'c:\\\\Users\\\\Saljesh Maharjan\\\\AppData\\\\Local\\\\Programs\\\\Python\\\\Python311', '', 'C:\\\\Users\\\\Saljesh Maharjan\\\\AppData\\\\Roaming\\\\Python\\\\Python311\\\\site-packages', 'C:\\\\Users\\\\Saljesh Maharjan\\\\AppData\\\\Roaming\\\\Python\\\\Python311\\\\site-packages\\\\win32', 'C:\\\\Users\\\\Saljesh Maharjan\\\\AppData\\\\Roaming\\\\Python\\\\Python311\\\\site-packages\\\\win32\\\\lib', 'C:\\\\Users\\\\Saljesh Maharjan\\\\AppData\\\\Roaming\\\\Python\\\\Python311\\\\site-packages\\\\Pythonwin', 'c:\\\\Users\\\\Saljesh Maharjan\\\\AppData\\\\Local\\\\Programs\\\\Python\\\\Python311\\\\Lib\\\\site-packages']\n"
     ]
    }
   ],
   "source": [
    "# when we import sth, python looks in sys.path\n",
    "import sys\n",
    "\n",
    "print(sys.path)"
   ]
  },
  {
   "cell_type": "code",
   "execution_count": 1,
   "metadata": {},
   "outputs": [
    {
     "ename": "ModuleNotFoundError",
     "evalue": "No module named 'my_module'",
     "output_type": "error",
     "traceback": [
      "\u001b[1;31m---------------------------------------------------------------------------\u001b[0m",
      "\u001b[1;31mModuleNotFoundError\u001b[0m                       Traceback (most recent call last)",
      "Cell \u001b[1;32mIn[1], line 4\u001b[0m\n\u001b[0;32m      1\u001b[0m \u001b[39m# Till this point my_module was in same directory\u001b[39;00m\n\u001b[0;32m      2\u001b[0m \u001b[39m# now lets move it to desktop\u001b[39;00m\n\u001b[1;32m----> 4\u001b[0m \u001b[39mfrom\u001b[39;00m \u001b[39mmy_module\u001b[39;00m \u001b[39mimport\u001b[39;00m find_index\n\u001b[0;32m      6\u001b[0m courses \u001b[39m=\u001b[39m [\u001b[39m'\u001b[39m\u001b[39mML\u001b[39m\u001b[39m'\u001b[39m,\u001b[39m'\u001b[39m\u001b[39mDS\u001b[39m\u001b[39m'\u001b[39m,\u001b[39m'\u001b[39m\u001b[39mDL\u001b[39m\u001b[39m'\u001b[39m]\n\u001b[0;32m      8\u001b[0m index \u001b[39m=\u001b[39m find_index(courses,\u001b[39m'\u001b[39m\u001b[39mML\u001b[39m\u001b[39m'\u001b[39m)\n",
      "\u001b[1;31mModuleNotFoundError\u001b[0m: No module named 'my_module'"
     ]
    }
   ],
   "source": [
    "# Till this point my_module was in same directory\n",
    "# now lets move it to desktop\n",
    "\n",
    "from my_module import find_index\n",
    "\n",
    "courses = ['ML','DS','DL']\n",
    "\n",
    "index = find_index(courses,'ML')"
   ]
  },
  {
   "cell_type": "code",
   "execution_count": null,
   "metadata": {},
   "outputs": [],
   "source": [
    "# now at this point lets provide the path for python\n",
    "import sys\n",
    "sys.path.append('/Users/saljeshmaharjan/Desktop/my_module')\n",
    "\n",
    "print(sys.path)\n",
    "\n",
    "from my_module import find_index\n",
    "\n",
    "courses = ['ML','DS','DL']\n",
    "\n",
    "index = find_index(courses,'ML')"
   ]
  },
  {
   "cell_type": "code",
   "execution_count": 15,
   "metadata": {},
   "outputs": [
    {
     "name": "stdout",
     "output_type": "stream",
     "text": [
      "DL\n",
      "1.5707963267948966\n",
      "1.0\n",
      "2023-03-04\n",
      "True\n",
      "d:\\00_Corey Schafter Begineer Series\n"
     ]
    }
   ],
   "source": [
    "# some build in modules\n",
    "\n",
    "import random\n",
    "courses = ['ML','DS','DL']\n",
    "\n",
    "\n",
    "random_course = random.choice(courses)\n",
    "\n",
    "print(random_course)\n",
    "\n",
    "\n",
    "# Math module\n",
    "import math\n",
    "\n",
    "rads = math.radians(90)\n",
    "print(rads)\n",
    "\n",
    "print(math.sin(rads))\n",
    "\n",
    "# Date Time module\n",
    "import datetime\n",
    "import calendar\n",
    "\n",
    "today = datetime.date.today()\n",
    "print(today)\n",
    "\n",
    "print(calendar.isleap(2020))\n",
    "\n",
    "# OS module\n",
    "import os\n",
    "\n",
    "print(os.getcwd())"
   ]
  },
  {
   "cell_type": "code",
   "execution_count": 16,
   "metadata": {},
   "outputs": [
    {
     "name": "stdout",
     "output_type": "stream",
     "text": [
      "c:\\Users\\Saljesh Maharjan\\AppData\\Local\\Programs\\Python\\Python311\\Lib\\os.py\n"
     ]
    }
   ],
   "source": [
    "\n",
    "# see the location of os file\n",
    "print(os.__file__)"
   ]
  },
  {
   "cell_type": "code",
   "execution_count": 17,
   "metadata": {},
   "outputs": [],
   "source": [
    "# antigravity module and run it\n",
    "import antigravity"
   ]
  },
  {
   "cell_type": "code",
   "execution_count": null,
   "metadata": {},
   "outputs": [],
   "source": []
  }
 ],
 "metadata": {
  "kernelspec": {
   "display_name": "Python 3",
   "language": "python",
   "name": "python3"
  },
  "language_info": {
   "codemirror_mode": {
    "name": "ipython",
    "version": 3
   },
   "file_extension": ".py",
   "mimetype": "text/x-python",
   "name": "python",
   "nbconvert_exporter": "python",
   "pygments_lexer": "ipython3",
   "version": "3.11.2"
  },
  "orig_nbformat": 4
 },
 "nbformat": 4,
 "nbformat_minor": 2
}
