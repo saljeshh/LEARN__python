{
 "cells": [
  {
   "cell_type": "code",
   "execution_count": 1,
   "id": "7c328161",
   "metadata": {},
   "outputs": [
    {
     "name": "stdout",
     "output_type": "stream",
     "text": [
      "Condition was true\n"
     ]
    }
   ],
   "source": [
    "if True:\n",
    "    print('Condition was true')"
   ]
  },
  {
   "cell_type": "code",
   "execution_count": 7,
   "id": "5c0e4376",
   "metadata": {},
   "outputs": [
    {
     "name": "stdout",
     "output_type": "stream",
     "text": [
      "Java is the language\n"
     ]
    }
   ],
   "source": [
    "language = 'java'\n",
    "\n",
    "if language == 'python':\n",
    "    print('python was true')\n",
    "elif language == 'java':\n",
    "    print('Java is the language')\n",
    "else:\n",
    "    print('No match')"
   ]
  },
  {
   "cell_type": "code",
   "execution_count": 12,
   "id": "f2729141",
   "metadata": {},
   "outputs": [
    {
     "name": "stdout",
     "output_type": "stream",
     "text": [
      "Bad credentials\n",
      "I am or haha\n",
      "Welcome\n"
     ]
    }
   ],
   "source": [
    "# and or not\n",
    "# and = all must be true\n",
    "user = 'Admin'\n",
    "logged_in = False\n",
    "\n",
    "if user == 'Admin' and logged_in:\n",
    "    print('Admin Page')\n",
    "else:\n",
    "    print('Bad credentials')\n",
    "    \n",
    "\n",
    "if user == 'Admin' or logged_in:\n",
    "    print('I am or haha')\n",
    "    \n",
    "\n",
    "# not = switch a boolean\n",
    "\n",
    "if not logged_in:\n",
    "    print('Welcome')"
   ]
  },
  {
   "cell_type": "code",
   "execution_count": 18,
   "id": "cec9cf75",
   "metadata": {},
   "outputs": [
    {
     "name": "stdout",
     "output_type": "stream",
     "text": [
      "True\n",
      "False\n",
      "2357609015616\n",
      "2357609015744\n",
      "True\n"
     ]
    }
   ],
   "source": [
    "a = [1,2,3]\n",
    "b = [1,2,3]\n",
    "\n",
    "print(a == b)\n",
    "print(a is b)\n",
    "\n",
    "print(id(a))\n",
    "print(id(b))\n",
    "\n",
    "# is checks the id of the variables i.e location\n",
    "print(a is a) # location is same so True"
   ]
  },
  {
   "cell_type": "code",
   "execution_count": 19,
   "id": "1122be04",
   "metadata": {},
   "outputs": [
    {
     "name": "stdout",
     "output_type": "stream",
     "text": [
      "Evaluated to False\n"
     ]
    }
   ],
   "source": [
    "# Falsy values in python\n",
    "# False\n",
    "# None\n",
    "# Zero of any numeric type\n",
    "# Any empty sequence. For example, '',(),[]\n",
    "# Any empty mapping. For example, {}\n",
    "\n",
    "condition = None\n",
    "\n",
    "if condition:\n",
    "    print('Evaluated to True')\n",
    "else:\n",
    "    print('Evaluated to False')"
   ]
  },
  {
   "cell_type": "code",
   "execution_count": null,
   "id": "fb5886ae",
   "metadata": {},
   "outputs": [],
   "source": []
  }
 ],
 "metadata": {
  "kernelspec": {
   "display_name": "Python 3 (ipykernel)",
   "language": "python",
   "name": "python3"
  },
  "language_info": {
   "codemirror_mode": {
    "name": "ipython",
    "version": 3
   },
   "file_extension": ".py",
   "mimetype": "text/x-python",
   "name": "python",
   "nbconvert_exporter": "python",
   "pygments_lexer": "ipython3",
   "version": "3.9.13"
  }
 },
 "nbformat": 4,
 "nbformat_minor": 5
}
