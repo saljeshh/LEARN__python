{
 "cells": [
  {
   "cell_type": "code",
   "execution_count": 15,
   "metadata": {},
   "outputs": [
    {
     "name": "stdout",
     "output_type": "stream",
     "text": [
      "Employee(Salu hes 45000)\n",
      "3\n",
      "ab\n"
     ]
    }
   ],
   "source": [
    "# DOUBLE __ / DUNDER /MAGIC METHODS\n",
    "\n",
    "class Employee:\n",
    "    raise_amt = 1.04\n",
    "\n",
    "    def __init__(self,first,last,pay):\n",
    "      self.first = first \n",
    "      self.last = last\n",
    "      self.email = first + last + \"@gmail.com\"\n",
    "      self.pay = pay \n",
    "\n",
    "    def fullname(self):\n",
    "       return f'{self.first} {self.last}'\n",
    "    \n",
    "    def apply_rise(self):\n",
    "       self.pay = int(self.pay * self.raise_amt)\n",
    "\n",
    "    # when we print employee without this repr method it gives us memeory location data \n",
    "    def __repr__(self):\n",
    "       return f\"Employee({self.first} {self.last} {self.pay})\" \n",
    "    \n",
    "    # if we add employee and employee data type we cant without this dunder we built\n",
    "    def __add__(self,other):\n",
    "       return self.pay + other.pay\n",
    "    \n",
    "   # we are simply replacing or overrding len dunder methods here\n",
    "    def __len__(self):\n",
    "      return len(self.fullname())\n",
    "\n",
    "\n",
    "emp_1 = Employee('Salu','hes',45000)\n",
    "emp_2 = Employee('TEst','person',20000)\n",
    "\n",
    "print(emp_1) #emp object\n",
    "\n",
    "print(1 + 2) # added\n",
    "print('a' + 'b') # concatinated\n",
    "\n",
    "# repr(emp_1)\n",
    "# str(emp_1)"
   ]
  },
  {
   "cell_type": "code",
   "execution_count": 6,
   "metadata": {},
   "outputs": [
    {
     "name": "stdout",
     "output_type": "stream",
     "text": [
      "Employee(Salu hes 45000)\n",
      "Employee(Salu hes 45000)\n"
     ]
    }
   ],
   "source": [
    "# when we call repr inside the hood it calls __repr__() method\n",
    "print(repr(emp_1))\n",
    "print(emp_1.__repr__())"
   ]
  },
  {
   "cell_type": "code",
   "execution_count": 7,
   "metadata": {},
   "outputs": [
    {
     "name": "stdout",
     "output_type": "stream",
     "text": [
      "3\n",
      "3\n",
      "ab\n"
     ]
    }
   ],
   "source": [
    "print(1 + 2)\n",
    "print(int.__add__(1,2))\n",
    "print(str.__add__('a','b'))"
   ]
  },
  {
   "cell_type": "code",
   "execution_count": 10,
   "metadata": {},
   "outputs": [
    {
     "name": "stdout",
     "output_type": "stream",
     "text": [
      "65000\n"
     ]
    }
   ],
   "source": [
    "#using own dunder method\n",
    "print(emp_1 + emp_2)"
   ]
  },
  {
   "cell_type": "code",
   "execution_count": 16,
   "metadata": {},
   "outputs": [
    {
     "name": "stdout",
     "output_type": "stream",
     "text": [
      "4\n",
      "4\n",
      "8\n"
     ]
    }
   ],
   "source": [
    "# Examples\n",
    "print(len('test'))\n",
    "print('test'.__len__())\n",
    "\n",
    "print(len(emp_1))"
   ]
  },
  {
   "cell_type": "code",
   "execution_count": null,
   "metadata": {},
   "outputs": [],
   "source": []
  }
 ],
 "metadata": {
  "kernelspec": {
   "display_name": "Python 3",
   "language": "python",
   "name": "python3"
  },
  "language_info": {
   "codemirror_mode": {
    "name": "ipython",
    "version": 3
   },
   "file_extension": ".py",
   "mimetype": "text/x-python",
   "name": "python",
   "nbconvert_exporter": "python",
   "pygments_lexer": "ipython3",
   "version": "3.11.2"
  },
  "orig_nbformat": 4
 },
 "nbformat": 4,
 "nbformat_minor": 2
}
