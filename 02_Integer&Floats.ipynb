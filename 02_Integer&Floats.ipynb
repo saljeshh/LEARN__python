{
 "cells": [
  {
   "cell_type": "markdown",
   "id": "6a5e9e73",
   "metadata": {},
   "source": [
    "# Numbers"
   ]
  },
  {
   "cell_type": "code",
   "execution_count": 1,
   "id": "415e1fb8",
   "metadata": {},
   "outputs": [
    {
     "name": "stdout",
     "output_type": "stream",
     "text": [
      "<class 'float'>\n"
     ]
    }
   ],
   "source": [
    "num = 3.14\n",
    "\n",
    "print(type(num)) #check typeof data"
   ]
  },
  {
   "cell_type": "code",
   "execution_count": 12,
   "id": "e9d5235e",
   "metadata": {},
   "outputs": [
    {
     "name": "stdout",
     "output_type": "stream",
     "text": [
      "5\n",
      "1.5\n",
      "1\n",
      "6\n",
      "9\n",
      "1\n"
     ]
    }
   ],
   "source": [
    "print(3 + 2)\n",
    "print(3 / 2) # normal divison\n",
    "print(3 // 2) # floor divison\n",
    "print(3 * 2)\n",
    "print(3 ** 2) # 3 power 2 \n",
    "print(11 % 2) #modulus by 2 for any number is either 0 or 1 "
   ]
  },
  {
   "cell_type": "code",
   "execution_count": 18,
   "id": "efd7d6bc",
   "metadata": {},
   "outputs": [
    {
     "name": "stdout",
     "output_type": "stream",
     "text": [
      "9\n",
      "2\n",
      "3\n",
      "6\n"
     ]
    }
   ],
   "source": [
    "print(3 * (2 + 1)) # ans = 9\n",
    "\n",
    "# Increment number by 1\n",
    "num = 1 \n",
    "num = num + 1\n",
    "print(num) # ans = 2\n",
    "\n",
    "# Short way to increment by 1\n",
    "num += 1\n",
    "print(num) # ans = 3\n",
    "\n",
    "# same way all arithmetic operations can be done shorthand\n",
    "num *= 2 # ans ->  3 * 2 = 6\n",
    "print(num)"
   ]
  },
  {
   "cell_type": "markdown",
   "id": "ffceb248",
   "metadata": {},
   "source": [
    "# Built in Functions"
   ]
  },
  {
   "cell_type": "code",
   "execution_count": 21,
   "id": "376220ab",
   "metadata": {},
   "outputs": [
    {
     "name": "stdout",
     "output_type": "stream",
     "text": [
      "34\n",
      "4\n",
      "3.76\n"
     ]
    }
   ],
   "source": [
    "print(abs(-34)) # ans -> 34\n",
    "print(round(3.75)) # ans -> 4\n",
    "\n",
    "print(round(3.756,2)) # ans -> 3.76 \"because second parameter is how many digits we want to keep\"\n"
   ]
  },
  {
   "cell_type": "markdown",
   "id": "cbf0080d",
   "metadata": {},
   "source": [
    "# Comparisons"
   ]
  },
  {
   "cell_type": "code",
   "execution_count": 26,
   "id": "87027d29",
   "metadata": {
    "scrolled": true
   },
   "outputs": [
    {
     "name": "stdout",
     "output_type": "stream",
     "text": [
      "True\n",
      "False\n",
      "True\n",
      "True\n",
      "False\n"
     ]
    }
   ],
   "source": [
    "num_1 = 3\n",
    "num_2 = 2\n",
    "\n",
    "print(num_1 > num_2) #true\n",
    "print(num_1 == num_2) #false\n",
    "print(num_1 != num_2) # not euqls to -> true\n",
    "print(num_1 >= num_2) #true\n",
    "print(num_1 <= num_2) #false"
   ]
  },
  {
   "cell_type": "code",
   "execution_count": 29,
   "id": "d6eaf1c7",
   "metadata": {},
   "outputs": [
    {
     "name": "stdout",
     "output_type": "stream",
     "text": [
      "100200\n",
      "300\n"
     ]
    }
   ],
   "source": [
    "num_1 = '100'\n",
    "num_2 = '200'\n",
    "\n",
    "print(num_1 + num_2) #it contatinates as both are strings\n",
    "\n",
    "print(int(num_1) + int(num_2)) # we changed the type and then sum is 300"
   ]
  }
 ],
 "metadata": {
  "kernelspec": {
   "display_name": "Python 3 (ipykernel)",
   "language": "python",
   "name": "python3"
  },
  "language_info": {
   "codemirror_mode": {
    "name": "ipython",
    "version": 3
   },
   "file_extension": ".py",
   "mimetype": "text/x-python",
   "name": "python",
   "nbconvert_exporter": "python",
   "pygments_lexer": "ipython3",
   "version": "3.9.13"
  }
 },
 "nbformat": 4,
 "nbformat_minor": 5
}
