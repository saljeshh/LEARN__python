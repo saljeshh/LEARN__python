{
 "cells": [
  {
   "cell_type": "code",
   "execution_count": 7,
   "metadata": {},
   "outputs": [
    {
     "name": "stdout",
     "output_type": "stream",
     "text": [
      "test.txt\n",
      "r\n",
      "False\n"
     ]
    }
   ],
   "source": [
    "f = open('test.txt','r')\n",
    "\n",
    "print(f.name) #file name\n",
    "print(f.mode) # r = reading mode\n",
    "\n",
    "print(f.closed) # false\n",
    "\n",
    "f.close() # very imporatnt"
   ]
  },
  {
   "cell_type": "code",
   "execution_count": 6,
   "metadata": {},
   "outputs": [
    {
     "name": "stdout",
     "output_type": "stream",
     "text": [
      "r\n",
      "True\n"
     ]
    }
   ],
   "source": [
    "# using context manager, we dont need to close explicitly\n",
    "with open('test.txt','r') as f:\n",
    "    print(f.mode)\n",
    "\n",
    "print(f.closed) # true"
   ]
  },
  {
   "cell_type": "code",
   "execution_count": 17,
   "metadata": {},
   "outputs": [
    {
     "name": "stdout",
     "output_type": "stream",
     "text": [
      "1. This is a test file\n",
      "2. With multiple lines of data\n",
      "3. Third lines\n",
      "4. Fourth lines\n",
      "5. Sixth lines\n"
     ]
    }
   ],
   "source": [
    "with open('test.txt','r') as f:\n",
    "    f_contents = f.read()\n",
    "    print(f_contents)"
   ]
  },
  {
   "cell_type": "code",
   "execution_count": 18,
   "metadata": {},
   "outputs": [
    {
     "name": "stdout",
     "output_type": "stream",
     "text": [
      "['1. This is a test file\\n', '2. With multiple lines of data\\n', '3. Third lines\\n', '4. Fourth lines\\n', '5. Sixth lines']\n"
     ]
    }
   ],
   "source": [
    "with open('test.txt','r') as f:\n",
    "    f_contents = f.readlines()\n",
    "    print(f_contents)"
   ]
  },
  {
   "cell_type": "code",
   "execution_count": 19,
   "metadata": {},
   "outputs": [
    {
     "name": "stdout",
     "output_type": "stream",
     "text": [
      "1. This is a test file\n",
      "\n"
     ]
    }
   ],
   "source": [
    "with open('test.txt','r') as f:\n",
    "    f_contents = f.readline()\n",
    "    print(f_contents)"
   ]
  },
  {
   "cell_type": "code",
   "execution_count": 21,
   "metadata": {},
   "outputs": [
    {
     "name": "stdout",
     "output_type": "stream",
     "text": [
      "1. This is a test file\n",
      "\n",
      "2. With multiple lines of data\n",
      "\n"
     ]
    }
   ],
   "source": [
    "with open('test.txt','r') as f:\n",
    "    f_contents = f.readline()\n",
    "    print(f_contents)\n",
    "\n",
    "    f_haha = f.readline()\n",
    "    print(f_haha)"
   ]
  },
  {
   "cell_type": "code",
   "execution_count": 22,
   "metadata": {},
   "outputs": [
    {
     "name": "stdout",
     "output_type": "stream",
     "text": [
      "1. This is a test file\n",
      "2. With multiple lines of data\n"
     ]
    }
   ],
   "source": [
    "# to remove the extra lines between we use end = ''\n",
    "with open('test.txt','r') as f:\n",
    "    f_contents = f.readline()\n",
    "    print(f_contents,end='')\n",
    "\n",
    "    f_next = f.readline()\n",
    "    print(f_next,end='')"
   ]
  },
  {
   "cell_type": "code",
   "execution_count": 23,
   "metadata": {},
   "outputs": [
    {
     "name": "stdout",
     "output_type": "stream",
     "text": [
      "1. This is a test file\n",
      "2. With multiple lines of data\n",
      "3. Third lines\n",
      "4. Fourth lines\n",
      "5. Sixth lines"
     ]
    }
   ],
   "source": [
    "# use loop \n",
    "\n",
    "with open('test.txt','r') as f:\n",
    "    for line in f:\n",
    "        print(line,end='')"
   ]
  },
  {
   "cell_type": "code",
   "execution_count": 26,
   "metadata": {},
   "outputs": [
    {
     "name": "stdout",
     "output_type": "stream",
     "text": [
      "1. This is a test file\n",
      "2. With\n"
     ]
    }
   ],
   "source": [
    "# when we use f.read() we can send parameter read(numberofchars)\n",
    "\n",
    "with open('test.txt','r') as f:\n",
    "    f_content = f.read(30)\n",
    "    print(f_content)"
   ]
  },
  {
   "cell_type": "code",
   "execution_count": 29,
   "metadata": {},
   "outputs": [
    {
     "name": "stdout",
     "output_type": "stream",
     "text": [
      "1. This is a test fi-le\n",
      "2. With multiple -lines of data\n",
      "3. Thi-rd lines\n",
      "4. Fourth l-ines\n",
      "5. Sixth lines-"
     ]
    }
   ],
   "source": [
    "with open('test.txt','r') as f:\n",
    "    size_to_read = 20\n",
    "\n",
    "    f_content = f.read(size_to_read)\n",
    "\n",
    "    while len(f_content) > 0:\n",
    "        print(f_content, end='-')\n",
    "        f_content = f.read(size_to_read)"
   ]
  },
  {
   "cell_type": "code",
   "execution_count": 30,
   "metadata": {},
   "outputs": [
    {
     "name": "stdout",
     "output_type": "stream",
     "text": [
      "1. This is-10\n",
      " a test fi-20\n",
      "le\n",
      "2. With-31\n",
      " multiple -41\n",
      "lines of d-51\n",
      "ata\n",
      "3. Thi-62\n",
      "rd lines\n",
      "4-73\n",
      ". Fourth l-83\n",
      "ines\n",
      "5. Si-94\n",
      "xth lines-103\n"
     ]
    }
   ],
   "source": [
    "# f.tell() will give how many characters we already read so far\n",
    "\n",
    "with open('test.txt','r') as f:\n",
    "    size_to_read = 10\n",
    "    f_content = f.read(size_to_read)\n",
    "\n",
    "    while len(f_content) > 0:\n",
    "        print(f_content,end='-')\n",
    "        print(f.tell())\n",
    "        f_content = f.read(size_to_read)"
   ]
  },
  {
   "cell_type": "code",
   "execution_count": 1,
   "metadata": {},
   "outputs": [
    {
     "name": "stdout",
     "output_type": "stream",
     "text": [
      "1. This is\n",
      "is is a te\n"
     ]
    }
   ],
   "source": [
    "# seek() jumps back to position we tell to read\n",
    "\n",
    "with open('test.txt','r') as f:\n",
    "    size_to_read = 10\n",
    "    f_content = f.read(size_to_read)\n",
    "    print(f_content)\n",
    "\n",
    "    f.seek(5)\n",
    "    f_con = f.read(size_to_read)\n",
    "    print(f_con)"
   ]
  },
  {
   "attachments": {},
   "cell_type": "markdown",
   "metadata": {},
   "source": [
    "# Writing to files"
   ]
  },
  {
   "cell_type": "code",
   "execution_count": 8,
   "metadata": {},
   "outputs": [],
   "source": [
    "# if there is no file it will create it otherwise override it\n",
    "\n",
    "with open('test2.txt','w') as f:\n",
    "    f.write('Testing the writing')\n",
    "    f.write('I am salejsh the programmer')\n",
    "    f.seek(0)\n",
    "    f.write('I am writing after')"
   ]
  },
  {
   "cell_type": "code",
   "execution_count": 9,
   "metadata": {},
   "outputs": [],
   "source": [
    "# copying the text of test to new file\n",
    "\n",
    "with open('test.txt','r') as rf:\n",
    "    with open('test_copy.txt','w') as wf:\n",
    "        for line in rf:\n",
    "            wf.write(line)"
   ]
  },
  {
   "cell_type": "code",
   "execution_count": 12,
   "metadata": {},
   "outputs": [],
   "source": [
    "# copying the image as text = we need to write binary not text\n",
    "with open('./mustang.jpg', 'rb') as read_image:\n",
    "    with open('./dreamcar.png', 'wb') as copy_image:\n",
    "        for line in read_image:\n",
    "            copy_image.write(line)"
   ]
  },
  {
   "cell_type": "code",
   "execution_count": null,
   "metadata": {},
   "outputs": [],
   "source": [
    "# copying the image as text = we need to write binary not text\n",
    "with open('./mustang.jpg', 'rb') as read_image:\n",
    "    with open('./dreamcar.png', 'wb') as copy_image:\n",
    "        chunk_size = 4000\n",
    "        read_image_chunk = read_image(chunk_size)\n",
    "\n",
    "        while len(read_image_chunk > 0):\n",
    "            copy_image.write(read_image_chunk)\n",
    "            read_image_chunk = read_image(chunk_size)"
   ]
  }
 ],
 "metadata": {
  "kernelspec": {
   "display_name": "Python 3",
   "language": "python",
   "name": "python3"
  },
  "language_info": {
   "codemirror_mode": {
    "name": "ipython",
    "version": 3
   },
   "file_extension": ".py",
   "mimetype": "text/x-python",
   "name": "python",
   "nbconvert_exporter": "python",
   "pygments_lexer": "ipython3",
   "version": "3.11.2"
  },
  "orig_nbformat": 4
 },
 "nbformat": 4,
 "nbformat_minor": 2
}
