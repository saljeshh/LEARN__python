{
 "cells": [
  {
   "cell_type": "code",
   "execution_count": 4,
   "id": "efc92e3c",
   "metadata": {},
   "outputs": [
    {
     "name": "stdout",
     "output_type": "stream",
     "text": [
      "{'name': 'Python', 'age': 25, 'courses': ['Math', 'Science']}\n",
      "Python\n",
      "value\n"
     ]
    }
   ],
   "source": [
    "student = {'name': 'Python', 'age': 25, 'courses': ['Math','Science']}\n",
    "\n",
    "print(student)\n",
    "\n",
    "print(student['name'])\n",
    "\n",
    "new = {1:'value'}\n",
    "print(new[1])"
   ]
  },
  {
   "cell_type": "code",
   "execution_count": 7,
   "id": "bf0bac14",
   "metadata": {},
   "outputs": [
    {
     "name": "stdout",
     "output_type": "stream",
     "text": [
      "None\n",
      "This doesnt exists\n"
     ]
    }
   ],
   "source": [
    "# suppose now there is no key when accessing by key we might get error\n",
    "dic = {'field':'Data Analytics', 'Skills': ['powerBI','python','Sql']}\n",
    "\n",
    "#print(dic['name'])\n",
    "\n",
    "print(dic.get('name')) #none\n",
    "\n",
    "# we can also pass the second parameter so that you can throw own error answer\n",
    "print(dic.get('names','This doesnt exists'))"
   ]
  },
  {
   "cell_type": "code",
   "execution_count": 8,
   "id": "303dee59",
   "metadata": {},
   "outputs": [
    {
     "name": "stdout",
     "output_type": "stream",
     "text": [
      "{'spiz': 'Yuki', 'Shepard': 'Leo', 'Pyro': 'Browny', 'street': 'Browny'}\n"
     ]
    }
   ],
   "source": [
    "# we can also update the dictionary\n",
    "dogs_by_breed = {'spiz':'Yuki','Shepard': 'Leo','Pyro': 'Browny'}\n",
    "dogs_by_breed.update({'spiz':'Yuki','Shepard': 'Leo','street': 'Browny'})\n",
    "\n",
    "print(dogs_by_breed)"
   ]
  },
  {
   "cell_type": "code",
   "execution_count": 9,
   "id": "d1565a51",
   "metadata": {},
   "outputs": [
    {
     "name": "stdout",
     "output_type": "stream",
     "text": [
      "{'name': 'Python', 'courses': ['Math', 'Science']}\n"
     ]
    }
   ],
   "source": [
    "# deleting from dictionary\n",
    "student = {'name': 'Python', 'age': 25, 'courses': ['Math','Science']}\n",
    "\n",
    "del student['age']\n",
    "\n",
    "print(student)"
   ]
  },
  {
   "cell_type": "code",
   "execution_count": 11,
   "id": "7ae3870f",
   "metadata": {},
   "outputs": [
    {
     "name": "stdout",
     "output_type": "stream",
     "text": [
      "{'name': 'Python', 'courses': ['Math', 'Science']}\n",
      "25\n"
     ]
    }
   ],
   "source": [
    "# popping\n",
    "student = {'name': 'Python', 'age': 25, 'courses': ['Math','Science']}\n",
    "\n",
    "age = student.pop('age')\n",
    "\n",
    "print(student)\n",
    "\n",
    "print(age)"
   ]
  },
  {
   "cell_type": "code",
   "execution_count": 15,
   "id": "fde25bd7",
   "metadata": {},
   "outputs": [
    {
     "name": "stdout",
     "output_type": "stream",
     "text": [
      "3\n",
      "dict_keys(['name', 'age', 'courses'])\n",
      "dict_values(['Python', 25, ['Math', 'Science']])\n",
      "dict_items([('name', 'Python'), ('age', 25), ('courses', ['Math', 'Science'])])\n"
     ]
    }
   ],
   "source": [
    "student = {'name': 'Python', 'age': 25, 'courses': ['Math','Science']}\n",
    "\n",
    "# length\n",
    "print(len(student))\n",
    "\n",
    "# keys\n",
    "print(student.keys())\n",
    "\n",
    "# values\n",
    "print(student.values())\n",
    "\n",
    "# Items\n",
    "print(student.items())"
   ]
  },
  {
   "cell_type": "code",
   "execution_count": 19,
   "id": "81d9dc84",
   "metadata": {},
   "outputs": [
    {
     "name": "stdout",
     "output_type": "stream",
     "text": [
      "name\n",
      "age\n",
      "courses\n",
      "name Python\n",
      "age 25\n",
      "courses ['Math', 'Science']\n"
     ]
    }
   ],
   "source": [
    "student = {'name': 'Python', 'age': 25, 'courses': ['Math','Science']}\n",
    "\n",
    "# looping\n",
    "\n",
    "for key in student:\n",
    "    print(key)\n",
    "\n",
    "for key,value in student.items():\n",
    "    print(key,value)"
   ]
  },
  {
   "cell_type": "code",
   "execution_count": null,
   "id": "beda2c2a",
   "metadata": {},
   "outputs": [],
   "source": []
  }
 ],
 "metadata": {
  "kernelspec": {
   "display_name": "Python 3 (ipykernel)",
   "language": "python",
   "name": "python3"
  },
  "language_info": {
   "codemirror_mode": {
    "name": "ipython",
    "version": 3
   },
   "file_extension": ".py",
   "mimetype": "text/x-python",
   "name": "python",
   "nbconvert_exporter": "python",
   "pygments_lexer": "ipython3",
   "version": "3.9.13"
  }
 },
 "nbformat": 4,
 "nbformat_minor": 5
}
