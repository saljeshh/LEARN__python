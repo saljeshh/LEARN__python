{
 "cells": [
  {
   "attachments": {},
   "cell_type": "markdown",
   "metadata": {},
   "source": [
    "# String Formatting"
   ]
  },
  {
   "cell_type": "code",
   "execution_count": 7,
   "metadata": {},
   "outputs": [
    {
     "name": "stdout",
     "output_type": "stream",
     "text": [
      "My name is Floyd and I am 23 years old.\n",
      "My name is Floyd and I am 23 years old\n",
      "My name is Floyd and I am 23 years old\n",
      "<h1>This is a headline</h1>\n"
     ]
    }
   ],
   "source": [
    "person = {'name': 'Floyd', 'age':23}\n",
    "\n",
    "sentence = 'My name is ' + person['name'] + ' and I am ' + str(person['age']) + ' years old.'\n",
    "print(sentence)\n",
    "\n",
    "s2 = 'My name is {} and I am {} years old'.format(person['name'],person['age'])\n",
    "print(s2)\n",
    "\n",
    "s3 = 'My name is {0} and I am {1} years old'.format(person['name'],person['age'])\n",
    "print(s3)\n",
    "\n",
    "tag = 'h1'\n",
    "text = 'This is a headline'\n",
    "html = '<{0}>{1}</{0}>'.format(tag,text)\n",
    "print(html)\n"
   ]
  },
  {
   "cell_type": "code",
   "execution_count": 10,
   "metadata": {},
   "outputs": [
    {
     "name": "stdout",
     "output_type": "stream",
     "text": [
      "My name is Floyd and I am 23 years old.\n",
      "My name is henn and I am 25 years old\n",
      "My name is Amy and i am 44 years old\n"
     ]
    }
   ],
   "source": [
    "# Accessing fields\n",
    "person = {'name': 'Floyd', 'age':23}\n",
    "\n",
    "s4 = 'My name is {0[name]} and I am {1[age]} years old.'.format(person,person)\n",
    "print(s4)\n",
    "\n",
    "lists = ['henn',25]\n",
    "s5 = 'My name is {0[0]} and I am {0[1]} years old'.format(lists)\n",
    "print(s5)\n",
    "\n",
    "\n",
    "class Person():\n",
    "    \n",
    "    def __init__(self,name,age):\n",
    "        self.name = name\n",
    "        self.age = age\n",
    "\n",
    "p1 = Person('Amy',44)\n",
    "\n",
    "s6 = 'My name is {0.name} and i am {0.age} years old'.format(p1)\n",
    "print(s6)"
   ]
  },
  {
   "cell_type": "code",
   "execution_count": 13,
   "metadata": {},
   "outputs": [
    {
     "name": "stdout",
     "output_type": "stream",
     "text": [
      "My name is hen and I am 2 years old.\n",
      "My name is Floyd and I am 23 years old.\n",
      "The value is 01\n",
      "The value is 02\n",
      "\n",
      "Pi is equal to 3.134\n",
      "1 mb is equal to 1,000,000.00 bytes\n"
     ]
    }
   ],
   "source": [
    "person = {'name': 'Floyd', 'age':23}\n",
    "\n",
    "# Key Arguments\n",
    "sentence = 'My name is {name} and I am {age} years old.'.format(name='hen',age=2)\n",
    "print(sentence)\n",
    "\n",
    "s1 = 'My name is {name} and I am {age} years old.'.format(**person)\n",
    "print(s1)\n",
    "\n",
    "for i in range(1,3):\n",
    "    sentence = 'The value is {:02}'.format(i) # 01,02 pad\n",
    "    print(sentence)\n",
    "\n",
    "print()\n",
    "\n",
    "pi = 3.134234\n",
    "pis = 'Pi is equal to {:0.3f}'.format(pi)\n",
    "print(pis)\n",
    "\n",
    "byte = '1 mb is equal to {:,.2f} bytes'.format(1000**2) # comma seperator\n",
    "print(byte)"
   ]
  },
  {
   "cell_type": "code",
   "execution_count": 23,
   "metadata": {},
   "outputs": [
    {
     "name": "stdout",
     "output_type": "stream",
     "text": [
      "2023-02-24 12:30:45\n",
      "February 24,2023\n",
      "February 24, 2023 fell on a Friday and was the 055 day of the year\n"
     ]
    }
   ],
   "source": [
    "# for date\n",
    "\n",
    "import datetime as d\n",
    "my_date = d.datetime(2023,2,24,12,30,45)\n",
    "print(my_date)\n",
    "\n",
    "# Suppose we want Febuary 02,2023\n",
    "sentence = '{:%B %d,%Y}'.format(my_date)\n",
    "print(sentence)\n",
    "\n",
    "# Feb 01, 2023 fell on a Tuesday and was the 055 day of the year\n",
    "sentence2 = '{0:%B %d, %Y} fell on a {0:%A} and was the {0:%j} day of the year'.format(my_date)\n",
    "print(sentence2)"
   ]
  },
  {
   "cell_type": "code",
   "execution_count": null,
   "metadata": {},
   "outputs": [],
   "source": []
  }
 ],
 "metadata": {
  "kernelspec": {
   "display_name": "Python 3",
   "language": "python",
   "name": "python3"
  },
  "language_info": {
   "codemirror_mode": {
    "name": "ipython",
    "version": 3
   },
   "file_extension": ".py",
   "mimetype": "text/x-python",
   "name": "python",
   "nbconvert_exporter": "python",
   "pygments_lexer": "ipython3",
   "version": "3.11.2"
  },
  "orig_nbformat": 4
 },
 "nbformat": 4,
 "nbformat_minor": 2
}
