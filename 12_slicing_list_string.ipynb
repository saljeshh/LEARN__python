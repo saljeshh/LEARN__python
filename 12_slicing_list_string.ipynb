{
 "cells": [
  {
   "cell_type": "code",
   "execution_count": 10,
   "metadata": {},
   "outputs": [
    {
     "name": "stdout",
     "output_type": "stream",
     "text": [
      "5\n",
      "9\n",
      "[0, 1, 2, 3, 4, 5, 6, 7, 8, 9]\n",
      "[0, 1, 2, 3, 4]\n",
      "[0, 1, 2, 3, 4]\n",
      "[0, 2, 4, 6, 8]\n"
     ]
    }
   ],
   "source": [
    "# Slicing list\n",
    "my_list = [0,1,2,3,4,5,6,7,8,9]\n",
    "\n",
    "print(my_list[5])\n",
    "print(my_list[-1])\n",
    "\n",
    "# list[start:end:step]\n",
    "print(my_list[0:]) \n",
    "print(my_list[0:5])\n",
    "print(my_list[:5])\n",
    "print(my_list[0:10:2])"
   ]
  },
  {
   "cell_type": "code",
   "execution_count": 20,
   "metadata": {},
   "outputs": [
    {
     "name": "stdout",
     "output_type": "stream",
     "text": [
      "[]\n",
      "[3, 4, 5, 6, 7]\n",
      "[0, 1, 2, 3, 4, 5, 6, 7, 8]\n"
     ]
    }
   ],
   "source": [
    "# negative index\n",
    "my_list = [0,1,2,3,4,5,6,7,8,9]\n",
    "\n",
    "print(my_list[-7:-9]) # it wont work as we can only go forward with positive step default = 1\n",
    "print(my_list[-7:-2])\n",
    "print(my_list[:-1])"
   ]
  },
  {
   "cell_type": "code",
   "execution_count": 19,
   "metadata": {},
   "outputs": [
    {
     "name": "stdout",
     "output_type": "stream",
     "text": [
      "[2, 4, 6, 8]\n"
     ]
    }
   ],
   "source": [
    "# mixed index\n",
    "my_list = [0,1,2,3,4,5,6,7,8,9]\n",
    "print(my_list[2:-1:2])\n"
   ]
  },
  {
   "cell_type": "code",
   "execution_count": 21,
   "metadata": {},
   "outputs": [
    {
     "name": "stdout",
     "output_type": "stream",
     "text": [
      "[5, 4, 3, 2]\n"
     ]
    }
   ],
   "source": [
    "# Negative steps\n",
    "list = [0,1,2,3,4,5]\n",
    "print(list[-1:1:-1])"
   ]
  },
  {
   "cell_type": "code",
   "execution_count": 24,
   "metadata": {},
   "outputs": [
    {
     "name": "stdout",
     "output_type": "stream",
     "text": [
      "['d', 'c', 'b', 'a']\n"
     ]
    }
   ],
   "source": [
    "# Entire list reversed\n",
    "list = ['a','b','c','d']\n",
    "print(list[::-1])"
   ]
  },
  {
   "attachments": {},
   "cell_type": "markdown",
   "metadata": {},
   "source": [
    "\n",
    "# Slicing Strings"
   ]
  },
  {
   "cell_type": "code",
   "execution_count": 32,
   "metadata": {},
   "outputs": [
    {
     "name": "stdout",
     "output_type": "stream",
     "text": [
      "http://saljesh.com.np\n",
      "pn.moc.hsejlas//:ptth\n",
      "pn\n",
      ".np\n",
      "saljesh.com.np\n",
      "saljesh.com\n"
     ]
    }
   ],
   "source": [
    "sample_url = 'http://saljesh.com.np'\n",
    "\n",
    "print(sample_url)\n",
    "\n",
    "# Reverse the url\n",
    "print(sample_url[::-1])\n",
    "\n",
    "# Get the top level doamin \n",
    "print(sample_url[-1:-3:-1]) # this wont work\n",
    "print(sample_url[-3:])\n",
    "\n",
    "# print the url without http://\n",
    "print(sample_url[7:])\n",
    "\n",
    "# print url without http:// or top level domain\n",
    "print(sample_url[7:-3])"
   ]
  }
 ],
 "metadata": {
  "kernelspec": {
   "display_name": "Python 3",
   "language": "python",
   "name": "python3"
  },
  "language_info": {
   "codemirror_mode": {
    "name": "ipython",
    "version": 3
   },
   "file_extension": ".py",
   "mimetype": "text/x-python",
   "name": "python",
   "nbconvert_exporter": "python",
   "pygments_lexer": "ipython3",
   "version": "3.11.2"
  },
  "orig_nbformat": 4
 },
 "nbformat": 4,
 "nbformat_minor": 2
}
