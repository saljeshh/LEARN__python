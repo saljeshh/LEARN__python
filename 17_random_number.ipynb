{
 "cells": [
  {
   "cell_type": "code",
   "execution_count": 5,
   "metadata": {},
   "outputs": [
    {
     "name": "stdout",
     "output_type": "stream",
     "text": [
      "0.007473235378194887\n",
      "8.913186316415825\n",
      "3\n"
     ]
    }
   ],
   "source": [
    "import random\n",
    "\n",
    "value = random.random()\n",
    "print(value) # give between 0 and 1\n",
    "\n",
    "new_value = random.uniform(1,10)\n",
    "print(new_value) #Between 1 and 10 - floats\n",
    "\n",
    "int_value = random.randint(1,6) # includes both 1 and 6 - int\n",
    "print(int_value)"
   ]
  },
  {
   "cell_type": "code",
   "execution_count": 13,
   "metadata": {},
   "outputs": [
    {
     "name": "stdout",
     "output_type": "stream",
     "text": [
      "hey, Saljesh\n",
      "['Red', 'Black', 'Red', 'Green', 'Black', 'Black', 'Red', 'Black', 'Red', 'Black']\n"
     ]
    }
   ],
   "source": [
    "import random\n",
    "\n",
    "greetings = ['hello','hi','hey','howdy','hola']\n",
    "\n",
    "value = random.choice(greetings)\n",
    "print(value + ', Saljesh')\n",
    "\n",
    "\n",
    "# colors\n",
    "colors = ['Red','Black','Green']\n",
    "results = random.choices(colors,weights=[10,10,3], k=10) # k is 10 random values   # weights are probability of comming for each index colors\n",
    "print(results)"
   ]
  },
  {
   "cell_type": "code",
   "execution_count": 20,
   "metadata": {},
   "outputs": [
    {
     "name": "stdout",
     "output_type": "stream",
     "text": [
      "[40, 7, 15, 13, 31, 35, 51, 39, 4, 41, 5, 24, 22, 6, 11, 3, 37, 50, 27, 8, 38, 48, 30, 44, 45, 32, 21, 17, 12, 9, 23, 16, 26, 36, 43, 14, 10, 52, 42, 47, 33, 19, 18, 1, 34, 2, 25, 29, 20, 49, 46, 28]\n",
      "[3, 51, 7, 30, 49]\n"
     ]
    }
   ],
   "source": [
    "import random\n",
    "\n",
    "deck = list(range(1,53)) #53 is not inclusive\n",
    "\n",
    "random.shuffle(deck)\n",
    "\n",
    "print(deck)\n",
    "\n",
    "# lets get 5 random card from deck , we cant use choice() as it may repeat same card\n",
    "# we use sample for this\n",
    "hand = random.sample(deck,k=5)\n",
    "print(hand)"
   ]
  },
  {
   "cell_type": "code",
   "execution_count": 23,
   "metadata": {},
   "outputs": [
    {
     "name": "stdout",
     "output_type": "stream",
     "text": [
      "Corey Harris\n",
      "+977-762784878\n",
      "875 Oak St., Olympus FL 28395\n",
      "coreyharris@gmail.com\n",
      "\n",
      "Nicole Arnold\n",
      "+977-396372555\n",
      "869 Oak St., Valyria CO 85806\n",
      "nicolearnold@gmail.com\n",
      "\n",
      "Linda Johnson\n",
      "+977-4760978325\n",
      "797 Pine St., Dawnstar CO 13606\n",
      "lindajohnson@gmail.com\n",
      "\n",
      "Maria Doe\n",
      "+977-2626869198\n",
      "688 High St., Oldtown NY 12263\n",
      "mariadoe@gmail.com\n",
      "\n",
      "Jennifer Wilson\n",
      "+977-636381986\n",
      "803 High St., Winterfell AK 78414\n",
      "jenniferwilson@gmail.com\n",
      "\n"
     ]
    }
   ],
   "source": [
    "''' Super simple module to create basic random data for tutorials'''\n",
    "import random\n",
    "\n",
    "first_names = ['John', 'Jane', 'Corey', 'Travis', 'Dave', 'Kurt', 'Neil', 'Sam', 'Steve', 'Tom', 'James', 'Robert', 'Michael', 'Charles', 'Joe', 'Mary', 'Maggie', 'Nicole', 'Patricia', 'Linda', 'Barbara', 'Elizabeth', 'Laura', 'Jennifer', 'Maria']\n",
    "\n",
    "last_names = ['Smith', 'Doe', 'Jenkins', 'Robinson', 'Davis', 'Stuart', 'Jefferson', 'Jacobs', 'Wright', 'Patterson', 'Wilks', 'Arnold', 'Johnson', 'Williams', 'Jones', 'Brown', 'Davis', 'Miller', 'Wilson', 'Moore', 'Taylor', 'Anderson', 'Thomas', 'Jackson', 'White', 'Harris', 'Martin']\n",
    "\n",
    "street_names = ['Main', 'High', 'Pearl', 'Maple', 'Park', 'Oak', 'Pine', 'Cedar', 'Elm', 'Washington', 'Lake', 'Hill']\n",
    "\n",
    "fake_cities = ['Metropolis', 'Eerie', \"King's Landing\", 'Sunnydale', 'Bedrock', 'South Park', 'Atlantis', 'Mordor', 'Olympus', 'Dawnstar', 'Balmora', 'Gotham', 'Springfield', 'Quahog', 'Smalltown', 'Epicburg', 'Pythonville', 'Faketown', 'Westworld', 'Thundera', 'Vice City', 'Blackwater', 'Oldtown', 'Valyria', 'Winterfell', 'Braavos‎', 'Lakeview']\n",
    "\n",
    "states = ['AL', 'AK', 'AZ', 'AR', 'CA', 'CO', 'CT', 'DC', 'DE', 'FL', 'GA', 'HI', 'ID', 'IL', 'IN', 'IA', 'KS', 'KY', 'LA', 'ME', 'MD', 'MA', 'MI', 'MN', 'MS', 'MO', 'MT', 'NE', 'NV', 'NH', 'NJ', 'NM', 'NY', 'NC', 'ND', 'OH', 'OK', 'OR', 'PA', 'RI', 'SC', 'SD', 'TN', 'TX', 'UT', 'VT', 'VA', 'WA', 'WV', 'WI', 'WY']\n",
    "\n",
    "\n",
    "# lets make 5 random person\n",
    "for num in range(5):\n",
    "    first = random.choice(first_names)\n",
    "    last = random.choice(last_names)\n",
    "\n",
    "    phone = f\"+977-{random.randint(00000,55555)}{random.randint(65666,99999)}\"\n",
    "\n",
    "    street_num = random.randint(100,999)\n",
    "    street = random.choice(street_names)\n",
    "    city = random.choice(fake_cities)\n",
    "    zip_code = random.randint(10000,99999)\n",
    "    state = random.choice(states)\n",
    "    address = f\"{street_num} {street} St., {city} {state} {zip_code}\"\n",
    "\n",
    "    email = first.lower() + last.lower() + '@gmail.com'\n",
    "\n",
    "    print(f\"{first} {last}\\n{phone}\\n{address}\\n{email}\\n\")\n"
   ]
  },
  {
   "cell_type": "code",
   "execution_count": null,
   "metadata": {},
   "outputs": [],
   "source": []
  }
 ],
 "metadata": {
  "kernelspec": {
   "display_name": "Python 3",
   "language": "python",
   "name": "python3"
  },
  "language_info": {
   "codemirror_mode": {
    "name": "ipython",
    "version": 3
   },
   "file_extension": ".py",
   "mimetype": "text/x-python",
   "name": "python",
   "nbconvert_exporter": "python",
   "pygments_lexer": "ipython3",
   "version": "3.11.2"
  },
  "orig_nbformat": 4
 },
 "nbformat": 4,
 "nbformat_minor": 2
}
