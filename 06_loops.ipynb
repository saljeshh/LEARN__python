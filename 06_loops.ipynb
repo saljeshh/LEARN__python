{
 "cells": [
  {
   "attachments": {},
   "cell_type": "markdown",
   "metadata": {},
   "source": [
    "# Loops and Iterations - For and While"
   ]
  },
  {
   "cell_type": "code",
   "execution_count": 9,
   "metadata": {},
   "outputs": [
    {
     "name": "stdout",
     "output_type": "stream",
     "text": [
      "1\n",
      "2\n",
      "Found it!\n",
      "---------------\n",
      "1\n",
      "Found 2!\n",
      "3\n",
      "4\n",
      "5\n",
      "---------------\n",
      "1 a\n",
      "1 b\n",
      "1 c\n",
      "2 a\n",
      "2 b\n",
      "2 c\n",
      "3 a\n",
      "3 b\n",
      "3 and c Found!\n",
      "4 a\n",
      "4 b\n",
      "4 c\n",
      "5 a\n",
      "5 b\n",
      "5 c\n"
     ]
    }
   ],
   "source": [
    "nums = [1,2,3,4,5]\n",
    "\n",
    "#break + ifs\n",
    "for num in nums:\n",
    "    if num == 3:\n",
    "        print('Found it!')\n",
    "        break\n",
    "    print(num)\n",
    "\n",
    "print('---------------')\n",
    "\n",
    "# continue\n",
    "for num in nums:\n",
    "    if num ==2:\n",
    "        print(\"Found 2!\")\n",
    "        continue\n",
    "    print(num)\n",
    "\n",
    "print('---------------')\n",
    "\n",
    "#nested loop\n",
    "for num in nums:\n",
    "    for letter in 'abc':\n",
    "        if num == 3 and letter == 'c':\n",
    "            print('3 and c Found!')\n",
    "            break\n",
    "        print(num,letter)\n"
   ]
  },
  {
   "cell_type": "code",
   "execution_count": 11,
   "metadata": {},
   "outputs": [
    {
     "name": "stdout",
     "output_type": "stream",
     "text": [
      "0\n",
      "1\n",
      "2\n",
      "3\n",
      "4\n",
      "5\n",
      "6\n",
      "7\n",
      "8\n",
      "9\n",
      "1\n",
      "2\n",
      "3\n",
      "4\n",
      "5\n",
      "6\n",
      "7\n",
      "8\n",
      "9\n",
      "10\n"
     ]
    }
   ],
   "source": [
    "for i in range(10):\n",
    "    print(i)\n",
    "\n",
    "print('---------------')\n",
    "\n",
    "# starting at 1\n",
    "for i in range(1,11):\n",
    "    print(i)\n",
    "\n",
    "print('---------------')\n",
    "\n",
    "# WHILE loops\n",
    "x = 0\n",
    "\n",
    "while x < 10:\n",
    "    print(x)\n",
    "    x += 1\n",
    "\n",
    "print('---------------')\n"
   ]
  }
 ],
 "metadata": {
  "kernelspec": {
   "display_name": "Python 3",
   "language": "python",
   "name": "python3"
  },
  "language_info": {
   "codemirror_mode": {
    "name": "ipython",
    "version": 3
   },
   "file_extension": ".py",
   "mimetype": "text/x-python",
   "name": "python",
   "nbconvert_exporter": "python",
   "pygments_lexer": "ipython3",
   "version": "3.11.2"
  },
  "orig_nbformat": 4
 },
 "nbformat": 4,
 "nbformat_minor": 2
}
