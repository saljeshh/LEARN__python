{
 "cells": [
  {
   "cell_type": "code",
   "execution_count": 1,
   "metadata": {},
   "outputs": [
    {
     "name": "stdout",
     "output_type": "stream",
     "text": [
      "saljesh\n",
      "saljesh.maharjan@gmail.com\n",
      "saljesh maharjan\n"
     ]
    }
   ],
   "source": [
    "class Employee:\n",
    "\n",
    "    def __init__(self,first,last):\n",
    "        self.first = first\n",
    "        self.last = last\n",
    "        self.email = first + '.' + last + '@gmail.com'\n",
    "\n",
    "    def fullname(self):\n",
    "        return f\"{self.first} {self.last}\"\n",
    "    \n",
    "emp1 = Employee('saljesh','maharjan')\n",
    "\n",
    "print(emp1.first)\n",
    "print(emp1.email)\n",
    "print(emp1.fullname())"
   ]
  },
  {
   "cell_type": "code",
   "execution_count": 2,
   "metadata": {},
   "outputs": [
    {
     "name": "stdout",
     "output_type": "stream",
     "text": [
      "hero\n",
      "saljesh.maharjan@gmail.com\n",
      "hero maharjan\n"
     ]
    }
   ],
   "source": [
    "# now suppose we change the first name and we can see \n",
    "# first name will update as it is a function and it gets called\n",
    "# but email doesnt update with new value as it is just init method\n",
    "emp1.first = 'hero'\n",
    "print(emp1.first)\n",
    "print(emp1.email)\n",
    "print(emp1.fullname())"
   ]
  },
  {
   "cell_type": "code",
   "execution_count": 10,
   "metadata": {},
   "outputs": [
    {
     "name": "stdout",
     "output_type": "stream",
     "text": [
      "hero\n",
      "hero.maharjan@gmail.com\n",
      "hero maharjan\n"
     ]
    }
   ],
   "source": [
    "# to make the emp1 change we can do in two ways , either make email as a fucntion too inside class as fullname\n",
    "class Employee:\n",
    "\n",
    "    def __init__(self,first,last):\n",
    "        self.first = first\n",
    "        self.last = last\n",
    "        # we dont need this now as we have gmail below as function\n",
    "        #self.gmail = first + '.' + last + '@gmail.com'\n",
    "\n",
    "    def fullname(self):\n",
    "        return f\"{self.first} {self.last}\"\n",
    "    \n",
    "    @property\n",
    "    def gmail(self):\n",
    "        return f\"{self.first}.{self.last}@gmail.com\"\n",
    "    \n",
    "emp1 = Employee('saljesh','maharjan')\n",
    "\n",
    "emp1.first = 'hero'\n",
    "print(emp1.first)\n",
    "# we need to call function using () - every codes need to be changed by adding () that will be mess so we use\n",
    "# property decoratr in gmail\n",
    "# print(emp1.gmail)\n",
    "# print(emp1.gmail())\n",
    "\n",
    "print(emp1.gmail)\n",
    "\n",
    "print(emp1.fullname())"
   ]
  },
  {
   "cell_type": "code",
   "execution_count": 17,
   "metadata": {},
   "outputs": [
    {
     "name": "stdout",
     "output_type": "stream",
     "text": [
      "aney.maharjan@gmail.com\n",
      "aney maharjan\n",
      "Deleted...\n"
     ]
    }
   ],
   "source": [
    "# using setters and deleters\n",
    "\n",
    "class Employee:\n",
    "\n",
    "    def __init__(self,first,last):\n",
    "        self.first = first\n",
    "        self.last = last\n",
    "        self.email = first + '.' + last + '@gmail.com'\n",
    "\n",
    "    @property\n",
    "    def fullname(self):\n",
    "        return f\"{self.first} {self.last}\"\n",
    "    \n",
    "    @property\n",
    "    def gmail(self):\n",
    "        return f\"{self.first}.{self.last}@gmail.com\"\n",
    "    \n",
    "    @fullname.setter\n",
    "    def fullname(self,name):# name is what we send to change\n",
    "        #first split first andn last name\n",
    "        first,last = name.split(' ')\n",
    "        self.first = first\n",
    "        self.last = last \n",
    "\n",
    "    @fullname.deleter\n",
    "    def fullname(self):\n",
    "        print(\"Deleted...\")\n",
    "        self.first = None\n",
    "        self.last = None \n",
    "\n",
    "\n",
    "    \n",
    "emp1 = Employee('saljesh','maharjan')\n",
    "\n",
    "emp1.fullname = 'aney maharjan'\n",
    "\n",
    "print(emp1.gmail)\n",
    "print(emp1.fullname)\n",
    "\n",
    "\n",
    "del emp1.fullname"
   ]
  },
  {
   "cell_type": "code",
   "execution_count": null,
   "metadata": {},
   "outputs": [],
   "source": []
  }
 ],
 "metadata": {
  "kernelspec": {
   "display_name": "Python 3",
   "language": "python",
   "name": "python3"
  },
  "language_info": {
   "codemirror_mode": {
    "name": "ipython",
    "version": 3
   },
   "file_extension": ".py",
   "mimetype": "text/x-python",
   "name": "python",
   "nbconvert_exporter": "python",
   "pygments_lexer": "ipython3",
   "version": "3.11.2"
  },
  "orig_nbformat": 4
 },
 "nbformat": 4,
 "nbformat_minor": 2
}
