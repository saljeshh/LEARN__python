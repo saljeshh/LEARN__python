{
 "cells": [
  {
   "cell_type": "code",
   "execution_count": 2,
   "metadata": {},
   "outputs": [
    {
     "name": "stdout",
     "output_type": "stream",
     "text": [
      "My name is SAL mhr\n"
     ]
    }
   ],
   "source": [
    "first_name = 'sal'\n",
    "last_name = 'mhr'\n",
    "\n",
    "# python 3.6 +\n",
    "\n",
    "sentence = f'My name is {first_name.upper()} {last_name}'\n",
    "print(sentence)"
   ]
  },
  {
   "cell_type": "code",
   "execution_count": 4,
   "metadata": {},
   "outputs": [
    {
     "name": "stdout",
     "output_type": "stream",
     "text": [
      "My name is sal and I am 21 years old\n",
      "My name is sal and I amd 21 years old\n"
     ]
    }
   ],
   "source": [
    "# working with dictionary\n",
    "person = {'name':'sal', 'age':21}\n",
    "sentence = 'My name is {} and I am {} years old'.format(person['name'],person['age'])\n",
    "print(sentence)\n",
    "\n",
    "s2 = f\"My name is {person['name']} and I amd {person['age']} years old\"\n",
    "print(s2)\n",
    "\n",
    "# we are terminating the quotes so it get syntax error use double quotes outside\n",
    "s3 = f'My name is {person['name']} and I amd {person['age']} years old'\n",
    "print(s3)"
   ]
  },
  {
   "cell_type": "code",
   "execution_count": 5,
   "metadata": {},
   "outputs": [
    {
     "name": "stdout",
     "output_type": "stream",
     "text": [
      "4 times 11 is equal to 44\n"
     ]
    }
   ],
   "source": [
    "# Calculations\n",
    "\n",
    "calcuation = f'4 times 11 is equal to {4 * 11}'\n",
    "print(calcuation)"
   ]
  },
  {
   "cell_type": "code",
   "execution_count": 7,
   "metadata": {},
   "outputs": [
    {
     "name": "stdout",
     "output_type": "stream",
     "text": [
      "The value is 01\n",
      "The value is 02\n",
      "The value is 03\n",
      "The value is 04\n",
      "The value is 05\n",
      "The value is 06\n",
      "The value is 07\n",
      "The value is 08\n",
      "The value is 09\n",
      "The value is 10\n"
     ]
    }
   ],
   "source": [
    "# padding\n",
    "for n in range(1,11):\n",
    "    sentence = f'The value is {n:02}' # 2 pads\n",
    "    print(sentence)"
   ]
  },
  {
   "cell_type": "code",
   "execution_count": 10,
   "metadata": {},
   "outputs": [
    {
     "name": "stdout",
     "output_type": "stream",
     "text": [
      "Pi is equal to 3.14\n"
     ]
    }
   ],
   "source": [
    "# Precision\n",
    "pi = 3.141592\n",
    "\n",
    "sentence = f'Pi is equal to {pi:0.2f}'\n",
    "print(sentence)"
   ]
  },
  {
   "cell_type": "code",
   "execution_count": 14,
   "metadata": {},
   "outputs": [
    {
     "name": "stdout",
     "output_type": "stream",
     "text": [
      "Sal has a birthday on May 18,2001\n"
     ]
    }
   ],
   "source": [
    "# Date time\n",
    "from datetime import datetime\n",
    "\n",
    "birthday = datetime(2001,5,18)\n",
    "\n",
    "sentece = f\"Sal has a birthday on {birthday:%B %d,%Y}\"\n",
    "print(sentece)"
   ]
  }
 ],
 "metadata": {
  "kernelspec": {
   "display_name": "Python 3",
   "language": "python",
   "name": "python3"
  },
  "language_info": {
   "codemirror_mode": {
    "name": "ipython",
    "version": 3
   },
   "file_extension": ".py",
   "mimetype": "text/x-python",
   "name": "python",
   "nbconvert_exporter": "python",
   "pygments_lexer": "ipython3",
   "version": "3.11.2"
  },
  "orig_nbformat": 4
 },
 "nbformat": 4,
 "nbformat_minor": 2
}
