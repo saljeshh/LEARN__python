{
 "cells": [
  {
   "cell_type": "code",
   "execution_count": 2,
   "metadata": {},
   "outputs": [
    {
     "name": "stdout",
     "output_type": "stream",
     "text": [
      "50000\n",
      "52000\n"
     ]
    }
   ],
   "source": [
    "class Employee:\n",
    "\n",
    "    def __init__(self,first,last,pay):\n",
    "        self.first = first\n",
    "        self.last = last \n",
    "        self.pay = pay\n",
    "        self.email = first + last + '@gmail.com'\n",
    "\n",
    "    def fullname(self):\n",
    "        return f\"{self.first} {self.last}\"\n",
    "    \n",
    "    def apply_raise(self):\n",
    "        self.pay = int(self.pay * 1.04) \n",
    "\n",
    "\n",
    "\n",
    "emp1 = Employee('saljesh','mhr',50000)\n",
    "emp2 = Employee('test','user',67000)\n",
    "\n",
    "print(emp1.pay)\n",
    "emp1.apply_raise()\n",
    "print(emp1.pay)"
   ]
  },
  {
   "cell_type": "code",
   "execution_count": 4,
   "metadata": {},
   "outputs": [
    {
     "name": "stdout",
     "output_type": "stream",
     "text": [
      "50000\n",
      "52000\n",
      "1.04\n",
      "1.04\n",
      "1.04\n"
     ]
    }
   ],
   "source": [
    "class Employee:\n",
    "    # class variable needs to be accessed through instance or class itself\n",
    "    raise_amount = 1.04\n",
    "\n",
    "    def __init__(self,first,last,pay):\n",
    "        self.first = first\n",
    "        self.last = last \n",
    "        self.pay = pay\n",
    "        self.email = first + last + '@gmail.com'\n",
    "\n",
    "    def fullname(self):\n",
    "        return f\"{self.first} {self.last}\"\n",
    "    \n",
    "    def apply_raise(self):\n",
    "        self.pay = int(self.pay * self.raise_amount) \n",
    "\n",
    "\n",
    "\n",
    "emp1 = Employee('saljesh','mhr',50000)\n",
    "emp2 = Employee('test','user',67000)\n",
    "\n",
    "print(emp1.pay)\n",
    "emp1.apply_raise()\n",
    "print(emp1.pay)\n",
    "\n",
    "# accessing raise amount\n",
    "print(Employee.raise_amount)\n",
    "print(emp1.raise_amount)\n",
    "print(emp2.raise_amount)"
   ]
  },
  {
   "cell_type": "code",
   "execution_count": 11,
   "metadata": {},
   "outputs": [
    {
     "name": "stdout",
     "output_type": "stream",
     "text": [
      "{'first': 'saljesh', 'last': 'mhr', 'pay': 50000, 'email': 'saljeshmhr@gmail.com'}\n",
      "{'__module__': '__main__', 'number_of_emps': 2, 'raise_amount': 1.04, '__init__': <function Employee.__init__ at 0x0000026E9259B880>, 'fullname': <function Employee.fullname at 0x0000026E9259B560>, 'apply_raise': <function Employee.apply_raise at 0x0000026E9259B1A0>, '__dict__': <attribute '__dict__' of 'Employee' objects>, '__weakref__': <attribute '__weakref__' of 'Employee' objects>, '__doc__': None}\n",
      "1.04\n",
      "1.05\n",
      "2\n"
     ]
    }
   ],
   "source": [
    "class Employee:\n",
    "    number_of_emps = 0\n",
    "    raise_amount = 1.04\n",
    "\n",
    "    def __init__(self,first,last,pay):\n",
    "        self.first = first\n",
    "        self.last = last \n",
    "        self.pay = pay\n",
    "        self.email = first + last + '@gmail.com'\n",
    "        # This init runs everytime new insatnce is created so\n",
    "        Employee.number_of_emps += 1\n",
    "\n",
    "\n",
    "    def fullname(self):\n",
    "        return f\"{self.first} {self.last}\"\n",
    "    \n",
    "    def apply_raise(self):\n",
    "        self.pay = int(self.pay * self.raise_amount) \n",
    "\n",
    "\n",
    "\n",
    "emp1 = Employee('saljesh','mhr',50000)\n",
    "emp2 = Employee('test','user',67000)\n",
    "\n",
    "print(emp1.__dict__) # shows how many keey value pairs are there , we can see there is no \"raise_amount\" we are getting it from Employee\n",
    "print(Employee.__dict__) # here there is raise amount and this value is picked by emp1 below\n",
    "\n",
    "print(emp1.raise_amount)\n",
    "\n",
    "# changing pay rise from here of emp1 only not emp2 and all\n",
    "emp1.raise_amount = 1.05 \n",
    "\n",
    "print(emp1.raise_amount)\n",
    "\n",
    "# printing number of employee\n",
    "print(Employee.number_of_emps)"
   ]
  }
 ],
 "metadata": {
  "kernelspec": {
   "display_name": "Python 3",
   "language": "python",
   "name": "python3"
  },
  "language_info": {
   "codemirror_mode": {
    "name": "ipython",
    "version": 3
   },
   "file_extension": ".py",
   "mimetype": "text/x-python",
   "name": "python",
   "nbconvert_exporter": "python",
   "pygments_lexer": "ipython3",
   "version": "3.11.2"
  },
  "orig_nbformat": 4
 },
 "nbformat": 4,
 "nbformat_minor": 2
}
